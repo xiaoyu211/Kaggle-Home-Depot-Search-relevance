{
 "cells": [
  {
   "cell_type": "code",
   "execution_count": 1,
   "metadata": {
    "collapsed": true
   },
   "outputs": [],
   "source": [
    "import warnings; warnings.filterwarnings(\"ignore\");\n",
    "import time\n",
    "start_time = time.time()"
   ]
  },
  {
   "cell_type": "code",
   "execution_count": 2,
   "metadata": {
    "collapsed": false
   },
   "outputs": [],
   "source": [
    "import numpy as np\n",
    "import pandas as pd\n",
    "from sklearn import ensemble\n",
    "#from sklearn import pipeline, model_selection\n",
    "from sklearn import pipeline, grid_search\n",
    "#from sklearn.feature_extraction import DictVectorizer\n",
    "from sklearn.base import BaseEstimator, TransformerMixin\n",
    "from sklearn.pipeline import FeatureUnion\n",
    "from sklearn.decomposition import TruncatedSVD\n",
    "#from sklearn.feature_extraction.text import CountVectorizer, TfidfTransformer\n",
    "from sklearn.feature_extraction.text import TfidfVectorizer\n",
    "from sklearn.metrics import mean_squared_error, make_scorer\n",
    "from sklearn import cross_validation\n",
    "from sklearn import preprocessing\n",
    "#stemmer = SnowballStemmer('english')\n",
    "import re\n",
    "#import enchant\n",
    "import random\n",
    "random.seed(2016)\n",
    "\n",
    "from nltk.stem.porter import *\n",
    "stemmer = PorterStemmer()"
   ]
  },
  {
   "cell_type": "code",
   "execution_count": 3,
   "metadata": {
    "collapsed": false
   },
   "outputs": [],
   "source": [
    "import sys \n",
    "reload(sys)  \n",
    "sys.setdefaultencoding('utf8')"
   ]
  },
  {
   "cell_type": "code",
   "execution_count": 35,
   "metadata": {
    "collapsed": false
   },
   "outputs": [],
   "source": [
    "df_train = pd.read_csv('data/train.csv', encoding= 'iso-8859-1') #update here\n",
    "df_test = pd.read_csv('data/test.csv', encoding='iso-8859-1') #update here\n",
    "df_pro_desc = pd.read_csv('data/product_descriptions.csv') #update here\n",
    "df_attr = pd.read_csv('data/attributes.csv')\n",
    "df_attr.dropna(inplace=True)\n",
    "df_train['label'] = 'train'\n",
    "df_test['label'] = 'test'"
   ]
  },
  {
   "cell_type": "code",
   "execution_count": 36,
   "metadata": {
    "collapsed": true
   },
   "outputs": [],
   "source": [
    "df_brand = df_attr[df_attr.name == \"MFG Brand Name\"][[\"product_uid\", \"value\"]].rename(columns={\"value\": \"brand\"})\n",
    "df_material = df_attr[df_attr.name == \"Material\"][[\"product_uid\", \"value\"]].rename(columns={\"value\": \"brand\"})"
   ]
  },
  {
   "cell_type": "code",
   "execution_count": 6,
   "metadata": {
    "collapsed": true
   },
   "outputs": [],
   "source": [
    "num_train = df_train.shape[0]\n",
    "df_all = pd.concat((df_train, df_test), axis=0, ignore_index=True)"
   ]
  },
  {
   "cell_type": "code",
   "execution_count": 7,
   "metadata": {
    "collapsed": true
   },
   "outputs": [],
   "source": [
    "df_all = pd.merge(df_all, df_pro_desc, how='left', on='product_uid')\n",
    "df_all = pd.merge(df_all, df_brand, how='left', on='product_uid')"
   ]
  },
  {
   "cell_type": "code",
   "execution_count": 8,
   "metadata": {
    "collapsed": false
   },
   "outputs": [],
   "source": [
    "df_material = df_attr[df_attr.name.str.lower().str.contains('material')][[\"product_uid\", \"value\"]].rename(columns={\"value\": \"material\"})"
   ]
  },
  {
   "cell_type": "code",
   "execution_count": 9,
   "metadata": {
    "collapsed": false
   },
   "outputs": [
    {
     "ename": "IndexError",
     "evalue": "single positional indexer is out-of-bounds",
     "output_type": "error",
     "traceback": [
      "\u001b[0;31m---------------------------------------------------------------------------\u001b[0m",
      "\u001b[0;31mIndexError\u001b[0m                                Traceback (most recent call last)",
      "\u001b[0;32m<ipython-input-9-81263fa51913>\u001b[0m in \u001b[0;36m<module>\u001b[0;34m()\u001b[0m\n\u001b[1;32m      7\u001b[0m         \u001b[0mdf_material\u001b[0m\u001b[0;34m.\u001b[0m\u001b[0mlable\u001b[0m\u001b[0;34m.\u001b[0m\u001b[0miloc\u001b[0m\u001b[0;34m[\u001b[0m\u001b[0mi\u001b[0m\u001b[0;34m+\u001b[0m\u001b[0;36m1\u001b[0m\u001b[0;34m]\u001b[0m \u001b[0;34m=\u001b[0m \u001b[0;36m1\u001b[0m\u001b[0;34m\u001b[0m\u001b[0m\n\u001b[1;32m      8\u001b[0m \u001b[0;34m\u001b[0m\u001b[0m\n\u001b[0;32m----> 9\u001b[0;31m         \u001b[0;32mif\u001b[0m \u001b[0mdf_material\u001b[0m\u001b[0;34m.\u001b[0m\u001b[0mproduct_uid\u001b[0m\u001b[0;34m.\u001b[0m\u001b[0miloc\u001b[0m\u001b[0;34m[\u001b[0m\u001b[0mi\u001b[0m\u001b[0;34m]\u001b[0m \u001b[0;34m==\u001b[0m \u001b[0mdf_material\u001b[0m\u001b[0;34m.\u001b[0m\u001b[0mproduct_uid\u001b[0m\u001b[0;34m.\u001b[0m\u001b[0miloc\u001b[0m\u001b[0;34m[\u001b[0m\u001b[0mi\u001b[0m\u001b[0;34m+\u001b[0m\u001b[0;36m2\u001b[0m\u001b[0;34m]\u001b[0m\u001b[0;34m:\u001b[0m\u001b[0;34m\u001b[0m\u001b[0m\n\u001b[0m\u001b[1;32m     10\u001b[0m             \u001b[0;32mif\u001b[0m \u001b[0mdf_material\u001b[0m\u001b[0;34m.\u001b[0m\u001b[0mmaterial\u001b[0m\u001b[0;34m.\u001b[0m\u001b[0miloc\u001b[0m\u001b[0;34m[\u001b[0m\u001b[0mi\u001b[0m\u001b[0;34m]\u001b[0m\u001b[0;34m!=\u001b[0m \u001b[0mdf_material\u001b[0m\u001b[0;34m.\u001b[0m\u001b[0mmaterial\u001b[0m\u001b[0;34m.\u001b[0m\u001b[0miloc\u001b[0m\u001b[0;34m[\u001b[0m\u001b[0mi\u001b[0m\u001b[0;34m+\u001b[0m\u001b[0;36m2\u001b[0m\u001b[0;34m]\u001b[0m\u001b[0;34m:\u001b[0m\u001b[0;34m\u001b[0m\u001b[0m\n\u001b[1;32m     11\u001b[0m                 \u001b[0mdf_material\u001b[0m\u001b[0;34m.\u001b[0m\u001b[0mmaterial\u001b[0m\u001b[0;34m.\u001b[0m\u001b[0miloc\u001b[0m\u001b[0;34m[\u001b[0m\u001b[0mi\u001b[0m\u001b[0;34m]\u001b[0m \u001b[0;34m=\u001b[0m \u001b[0mdf_material\u001b[0m\u001b[0;34m.\u001b[0m\u001b[0mmaterial\u001b[0m\u001b[0;34m.\u001b[0m\u001b[0miloc\u001b[0m\u001b[0;34m[\u001b[0m\u001b[0mi\u001b[0m\u001b[0;34m]\u001b[0m\u001b[0;34m+\u001b[0m\u001b[0;34m' '\u001b[0m\u001b[0;34m+\u001b[0m\u001b[0mdf_material\u001b[0m\u001b[0;34m.\u001b[0m\u001b[0mmaterial\u001b[0m\u001b[0;34m.\u001b[0m\u001b[0miloc\u001b[0m\u001b[0;34m[\u001b[0m\u001b[0mi\u001b[0m\u001b[0;34m+\u001b[0m\u001b[0;36m2\u001b[0m\u001b[0;34m]\u001b[0m\u001b[0;34m\u001b[0m\u001b[0m\n",
      "\u001b[0;32m/usr/local/lib/python2.7/site-packages/pandas/core/indexing.pyc\u001b[0m in \u001b[0;36m__getitem__\u001b[0;34m(self, key)\u001b[0m\n\u001b[1;32m   1284\u001b[0m             \u001b[0;32mreturn\u001b[0m \u001b[0mself\u001b[0m\u001b[0;34m.\u001b[0m\u001b[0m_getitem_tuple\u001b[0m\u001b[0;34m(\u001b[0m\u001b[0mkey\u001b[0m\u001b[0;34m)\u001b[0m\u001b[0;34m\u001b[0m\u001b[0m\n\u001b[1;32m   1285\u001b[0m         \u001b[0;32melse\u001b[0m\u001b[0;34m:\u001b[0m\u001b[0;34m\u001b[0m\u001b[0m\n\u001b[0;32m-> 1286\u001b[0;31m             \u001b[0;32mreturn\u001b[0m \u001b[0mself\u001b[0m\u001b[0;34m.\u001b[0m\u001b[0m_getitem_axis\u001b[0m\u001b[0;34m(\u001b[0m\u001b[0mkey\u001b[0m\u001b[0;34m,\u001b[0m \u001b[0maxis\u001b[0m\u001b[0;34m=\u001b[0m\u001b[0;36m0\u001b[0m\u001b[0;34m)\u001b[0m\u001b[0;34m\u001b[0m\u001b[0m\n\u001b[0m\u001b[1;32m   1287\u001b[0m \u001b[0;34m\u001b[0m\u001b[0m\n\u001b[1;32m   1288\u001b[0m     \u001b[0;32mdef\u001b[0m \u001b[0m_getitem_axis\u001b[0m\u001b[0;34m(\u001b[0m\u001b[0mself\u001b[0m\u001b[0;34m,\u001b[0m \u001b[0mkey\u001b[0m\u001b[0;34m,\u001b[0m \u001b[0maxis\u001b[0m\u001b[0;34m=\u001b[0m\u001b[0;36m0\u001b[0m\u001b[0;34m)\u001b[0m\u001b[0;34m:\u001b[0m\u001b[0;34m\u001b[0m\u001b[0m\n",
      "\u001b[0;32m/usr/local/lib/python2.7/site-packages/pandas/core/indexing.pyc\u001b[0m in \u001b[0;36m_getitem_axis\u001b[0;34m(self, key, axis)\u001b[0m\n\u001b[1;32m   1571\u001b[0m \u001b[0;34m\u001b[0m\u001b[0m\n\u001b[1;32m   1572\u001b[0m                 \u001b[0;31m# validate the location\u001b[0m\u001b[0;34m\u001b[0m\u001b[0;34m\u001b[0m\u001b[0m\n\u001b[0;32m-> 1573\u001b[0;31m                 \u001b[0mself\u001b[0m\u001b[0;34m.\u001b[0m\u001b[0m_is_valid_integer\u001b[0m\u001b[0;34m(\u001b[0m\u001b[0mkey\u001b[0m\u001b[0;34m,\u001b[0m \u001b[0maxis\u001b[0m\u001b[0;34m)\u001b[0m\u001b[0;34m\u001b[0m\u001b[0m\n\u001b[0m\u001b[1;32m   1574\u001b[0m \u001b[0;34m\u001b[0m\u001b[0m\n\u001b[1;32m   1575\u001b[0m             \u001b[0;32mreturn\u001b[0m \u001b[0mself\u001b[0m\u001b[0;34m.\u001b[0m\u001b[0m_get_loc\u001b[0m\u001b[0;34m(\u001b[0m\u001b[0mkey\u001b[0m\u001b[0;34m,\u001b[0m \u001b[0maxis\u001b[0m\u001b[0;34m=\u001b[0m\u001b[0maxis\u001b[0m\u001b[0;34m)\u001b[0m\u001b[0;34m\u001b[0m\u001b[0m\n",
      "\u001b[0;32m/usr/local/lib/python2.7/site-packages/pandas/core/indexing.pyc\u001b[0m in \u001b[0;36m_is_valid_integer\u001b[0;34m(self, key, axis)\u001b[0m\n\u001b[1;32m   1485\u001b[0m         \u001b[0ml\u001b[0m \u001b[0;34m=\u001b[0m \u001b[0mlen\u001b[0m\u001b[0;34m(\u001b[0m\u001b[0max\u001b[0m\u001b[0;34m)\u001b[0m\u001b[0;34m\u001b[0m\u001b[0m\n\u001b[1;32m   1486\u001b[0m         \u001b[0;32mif\u001b[0m \u001b[0mkey\u001b[0m \u001b[0;34m>=\u001b[0m \u001b[0ml\u001b[0m \u001b[0;32mor\u001b[0m \u001b[0mkey\u001b[0m \u001b[0;34m<\u001b[0m \u001b[0;34m-\u001b[0m\u001b[0ml\u001b[0m\u001b[0;34m:\u001b[0m\u001b[0;34m\u001b[0m\u001b[0m\n\u001b[0;32m-> 1487\u001b[0;31m             \u001b[0;32mraise\u001b[0m \u001b[0mIndexError\u001b[0m\u001b[0;34m(\u001b[0m\u001b[0;34m\"single positional indexer is out-of-bounds\"\u001b[0m\u001b[0;34m)\u001b[0m\u001b[0;34m\u001b[0m\u001b[0m\n\u001b[0m\u001b[1;32m   1488\u001b[0m         \u001b[0;32mreturn\u001b[0m \u001b[0mTrue\u001b[0m\u001b[0;34m\u001b[0m\u001b[0m\n\u001b[1;32m   1489\u001b[0m \u001b[0;34m\u001b[0m\u001b[0m\n",
      "\u001b[0;31mIndexError\u001b[0m: single positional indexer is out-of-bounds"
     ]
    }
   ],
   "source": [
    "row_to_drop = []\n",
    "df_material['lable'] = 0\n",
    "for i in range(len(df_material.product_uid)):\n",
    "    if df_material.product_uid.iloc[i] == df_material.product_uid.iloc[i+1]:\n",
    "        if df_material.material.iloc[i]!= df_material.material.iloc[i+1]:\n",
    "            df_material.material.iloc[i] = df_material.material.iloc[i]+' '+df_material.material.iloc[i+1]\n",
    "        df_material.lable.iloc[i+1] = 1\n",
    "        \n",
    "        if df_material.product_uid.iloc[i] == df_material.product_uid.iloc[i+2]:\n",
    "            if df_material.material.iloc[i]!= df_material.material.iloc[i+2]:\n",
    "                df_material.material.iloc[i] = df_material.material.iloc[i]+' '+df_material.material.iloc[i+2]\n",
    "            df_material.lable.iloc[i+2] = 1\n",
    "        \n",
    "            if df_material.product_uid.iloc[i] == df_material.product_uid.iloc[i+3]:\n",
    "                if df_material.material.iloc[i]!= df_material.material.iloc[i+3]:\n",
    "                    df_material.material.iloc[i] = df_material.material.iloc[i]+' '+df_material.material.iloc[i+3]\n",
    "                df_material.lable.iloc[i+3] = 1\n",
    "    else:\n",
    "        print i        "
   ]
  },
  {
   "cell_type": "code",
   "execution_count": 29,
   "metadata": {
    "collapsed": false
   },
   "outputs": [
    {
     "data": {
      "text/plain": [
       "(240760, 10)"
      ]
     },
     "execution_count": 29,
     "metadata": {},
     "output_type": "execute_result"
    }
   ],
   "source": [
    "df_all.shape"
   ]
  },
  {
   "cell_type": "code",
   "execution_count": 11,
   "metadata": {
    "collapsed": false
   },
   "outputs": [],
   "source": [
    "df_material = df_material[df_material.lable == 0]\n",
    "df_material= df_material.drop('lable', 1)"
   ]
  },
  {
   "cell_type": "code",
   "execution_count": 12,
   "metadata": {
    "collapsed": true
   },
   "outputs": [],
   "source": [
    "df_all = pd.merge(df_all, df_material, how='left', on='product_uid')"
   ]
  },
  {
   "cell_type": "code",
   "execution_count": 15,
   "metadata": {
    "collapsed": false
   },
   "outputs": [],
   "source": [
    "df_color = df_attr[df_attr.name.str.lower().str.contains('color')][[\"product_uid\", \"value\"]].rename(columns={\"value\": \"color\"})"
   ]
  },
  {
   "cell_type": "code",
   "execution_count": 22,
   "metadata": {
    "collapsed": false
   },
   "outputs": [
    {
     "ename": "IndexError",
     "evalue": "single positional indexer is out-of-bounds",
     "output_type": "error",
     "traceback": [
      "\u001b[0;31m---------------------------------------------------------------------------\u001b[0m",
      "\u001b[0;31mIndexError\u001b[0m                                Traceback (most recent call last)",
      "\u001b[0;32m<ipython-input-22-fa7d0a99157b>\u001b[0m in \u001b[0;36m<module>\u001b[0;34m()\u001b[0m\n\u001b[1;32m      1\u001b[0m \u001b[0mdf_color\u001b[0m\u001b[0;34m[\u001b[0m\u001b[0;34m'lable'\u001b[0m\u001b[0;34m]\u001b[0m \u001b[0;34m=\u001b[0m \u001b[0;36m0\u001b[0m\u001b[0;34m\u001b[0m\u001b[0m\n\u001b[1;32m      2\u001b[0m \u001b[0;32mfor\u001b[0m \u001b[0mi\u001b[0m \u001b[0;32min\u001b[0m \u001b[0mrange\u001b[0m\u001b[0;34m(\u001b[0m\u001b[0mlen\u001b[0m\u001b[0;34m(\u001b[0m\u001b[0mdf_color\u001b[0m\u001b[0;34m.\u001b[0m\u001b[0mproduct_uid\u001b[0m\u001b[0;34m)\u001b[0m\u001b[0;34m)\u001b[0m\u001b[0;34m:\u001b[0m\u001b[0;34m\u001b[0m\u001b[0m\n\u001b[0;32m----> 3\u001b[0;31m     \u001b[0;32mif\u001b[0m \u001b[0mdf_color\u001b[0m\u001b[0;34m.\u001b[0m\u001b[0mproduct_uid\u001b[0m\u001b[0;34m.\u001b[0m\u001b[0miloc\u001b[0m\u001b[0;34m[\u001b[0m\u001b[0mi\u001b[0m\u001b[0;34m]\u001b[0m \u001b[0;34m==\u001b[0m \u001b[0mdf_color\u001b[0m\u001b[0;34m.\u001b[0m\u001b[0mproduct_uid\u001b[0m\u001b[0;34m.\u001b[0m\u001b[0miloc\u001b[0m\u001b[0;34m[\u001b[0m\u001b[0mi\u001b[0m\u001b[0;34m+\u001b[0m\u001b[0;36m1\u001b[0m\u001b[0;34m]\u001b[0m\u001b[0;34m:\u001b[0m\u001b[0;34m\u001b[0m\u001b[0m\n\u001b[0m\u001b[1;32m      4\u001b[0m         \u001b[0;32mif\u001b[0m \u001b[0mdf_color\u001b[0m\u001b[0;34m.\u001b[0m\u001b[0mcolor\u001b[0m\u001b[0;34m.\u001b[0m\u001b[0miloc\u001b[0m\u001b[0;34m[\u001b[0m\u001b[0mi\u001b[0m\u001b[0;34m]\u001b[0m\u001b[0;34m!=\u001b[0m \u001b[0mdf_color\u001b[0m\u001b[0;34m.\u001b[0m\u001b[0mcolor\u001b[0m\u001b[0;34m.\u001b[0m\u001b[0miloc\u001b[0m\u001b[0;34m[\u001b[0m\u001b[0mi\u001b[0m\u001b[0;34m+\u001b[0m\u001b[0;36m1\u001b[0m\u001b[0;34m]\u001b[0m\u001b[0;34m:\u001b[0m\u001b[0;34m\u001b[0m\u001b[0m\n\u001b[1;32m      5\u001b[0m             \u001b[0mdf_color\u001b[0m\u001b[0;34m.\u001b[0m\u001b[0mcolor\u001b[0m\u001b[0;34m.\u001b[0m\u001b[0miloc\u001b[0m\u001b[0;34m[\u001b[0m\u001b[0mi\u001b[0m\u001b[0;34m]\u001b[0m \u001b[0;34m=\u001b[0m \u001b[0mdf_color\u001b[0m\u001b[0;34m.\u001b[0m\u001b[0mcolor\u001b[0m\u001b[0;34m.\u001b[0m\u001b[0miloc\u001b[0m\u001b[0;34m[\u001b[0m\u001b[0mi\u001b[0m\u001b[0;34m]\u001b[0m\u001b[0;34m+\u001b[0m\u001b[0;34m' '\u001b[0m\u001b[0;34m+\u001b[0m\u001b[0mdf_color\u001b[0m\u001b[0;34m.\u001b[0m\u001b[0mcolor\u001b[0m\u001b[0;34m.\u001b[0m\u001b[0miloc\u001b[0m\u001b[0;34m[\u001b[0m\u001b[0mi\u001b[0m\u001b[0;34m+\u001b[0m\u001b[0;36m1\u001b[0m\u001b[0;34m]\u001b[0m\u001b[0;34m\u001b[0m\u001b[0m\n",
      "\u001b[0;32m/usr/local/lib/python2.7/site-packages/pandas/core/indexing.pyc\u001b[0m in \u001b[0;36m__getitem__\u001b[0;34m(self, key)\u001b[0m\n\u001b[1;32m   1284\u001b[0m             \u001b[0;32mreturn\u001b[0m \u001b[0mself\u001b[0m\u001b[0;34m.\u001b[0m\u001b[0m_getitem_tuple\u001b[0m\u001b[0;34m(\u001b[0m\u001b[0mkey\u001b[0m\u001b[0;34m)\u001b[0m\u001b[0;34m\u001b[0m\u001b[0m\n\u001b[1;32m   1285\u001b[0m         \u001b[0;32melse\u001b[0m\u001b[0;34m:\u001b[0m\u001b[0;34m\u001b[0m\u001b[0m\n\u001b[0;32m-> 1286\u001b[0;31m             \u001b[0;32mreturn\u001b[0m \u001b[0mself\u001b[0m\u001b[0;34m.\u001b[0m\u001b[0m_getitem_axis\u001b[0m\u001b[0;34m(\u001b[0m\u001b[0mkey\u001b[0m\u001b[0;34m,\u001b[0m \u001b[0maxis\u001b[0m\u001b[0;34m=\u001b[0m\u001b[0;36m0\u001b[0m\u001b[0;34m)\u001b[0m\u001b[0;34m\u001b[0m\u001b[0m\n\u001b[0m\u001b[1;32m   1287\u001b[0m \u001b[0;34m\u001b[0m\u001b[0m\n\u001b[1;32m   1288\u001b[0m     \u001b[0;32mdef\u001b[0m \u001b[0m_getitem_axis\u001b[0m\u001b[0;34m(\u001b[0m\u001b[0mself\u001b[0m\u001b[0;34m,\u001b[0m \u001b[0mkey\u001b[0m\u001b[0;34m,\u001b[0m \u001b[0maxis\u001b[0m\u001b[0;34m=\u001b[0m\u001b[0;36m0\u001b[0m\u001b[0;34m)\u001b[0m\u001b[0;34m:\u001b[0m\u001b[0;34m\u001b[0m\u001b[0m\n",
      "\u001b[0;32m/usr/local/lib/python2.7/site-packages/pandas/core/indexing.pyc\u001b[0m in \u001b[0;36m_getitem_axis\u001b[0;34m(self, key, axis)\u001b[0m\n\u001b[1;32m   1571\u001b[0m \u001b[0;34m\u001b[0m\u001b[0m\n\u001b[1;32m   1572\u001b[0m                 \u001b[0;31m# validate the location\u001b[0m\u001b[0;34m\u001b[0m\u001b[0;34m\u001b[0m\u001b[0m\n\u001b[0;32m-> 1573\u001b[0;31m                 \u001b[0mself\u001b[0m\u001b[0;34m.\u001b[0m\u001b[0m_is_valid_integer\u001b[0m\u001b[0;34m(\u001b[0m\u001b[0mkey\u001b[0m\u001b[0;34m,\u001b[0m \u001b[0maxis\u001b[0m\u001b[0;34m)\u001b[0m\u001b[0;34m\u001b[0m\u001b[0m\n\u001b[0m\u001b[1;32m   1574\u001b[0m \u001b[0;34m\u001b[0m\u001b[0m\n\u001b[1;32m   1575\u001b[0m             \u001b[0;32mreturn\u001b[0m \u001b[0mself\u001b[0m\u001b[0;34m.\u001b[0m\u001b[0m_get_loc\u001b[0m\u001b[0;34m(\u001b[0m\u001b[0mkey\u001b[0m\u001b[0;34m,\u001b[0m \u001b[0maxis\u001b[0m\u001b[0;34m=\u001b[0m\u001b[0maxis\u001b[0m\u001b[0;34m)\u001b[0m\u001b[0;34m\u001b[0m\u001b[0m\n",
      "\u001b[0;32m/usr/local/lib/python2.7/site-packages/pandas/core/indexing.pyc\u001b[0m in \u001b[0;36m_is_valid_integer\u001b[0;34m(self, key, axis)\u001b[0m\n\u001b[1;32m   1485\u001b[0m         \u001b[0ml\u001b[0m \u001b[0;34m=\u001b[0m \u001b[0mlen\u001b[0m\u001b[0;34m(\u001b[0m\u001b[0max\u001b[0m\u001b[0;34m)\u001b[0m\u001b[0;34m\u001b[0m\u001b[0m\n\u001b[1;32m   1486\u001b[0m         \u001b[0;32mif\u001b[0m \u001b[0mkey\u001b[0m \u001b[0;34m>=\u001b[0m \u001b[0ml\u001b[0m \u001b[0;32mor\u001b[0m \u001b[0mkey\u001b[0m \u001b[0;34m<\u001b[0m \u001b[0;34m-\u001b[0m\u001b[0ml\u001b[0m\u001b[0;34m:\u001b[0m\u001b[0;34m\u001b[0m\u001b[0m\n\u001b[0;32m-> 1487\u001b[0;31m             \u001b[0;32mraise\u001b[0m \u001b[0mIndexError\u001b[0m\u001b[0;34m(\u001b[0m\u001b[0;34m\"single positional indexer is out-of-bounds\"\u001b[0m\u001b[0;34m)\u001b[0m\u001b[0;34m\u001b[0m\u001b[0m\n\u001b[0m\u001b[1;32m   1488\u001b[0m         \u001b[0;32mreturn\u001b[0m \u001b[0mTrue\u001b[0m\u001b[0;34m\u001b[0m\u001b[0m\n\u001b[1;32m   1489\u001b[0m \u001b[0;34m\u001b[0m\u001b[0m\n",
      "\u001b[0;31mIndexError\u001b[0m: single positional indexer is out-of-bounds"
     ]
    }
   ],
   "source": [
    "df_color['lable'] = 0\n",
    "for i in range(len(df_color.product_uid)):\n",
    "    if df_color.product_uid.iloc[i] == df_color.product_uid.iloc[i+1]:\n",
    "        if df_color.color.iloc[i]!= df_color.color.iloc[i+1]:\n",
    "            df_color.color.iloc[i] = df_color.color.iloc[i]+' '+df_color.color.iloc[i+1]\n",
    "        df_color.lable.iloc[i+1] = 1\n",
    "        \n",
    "        if df_color.product_uid.iloc[i] == df_color.product_uid.iloc[i+2]:\n",
    "            if df_color.color.iloc[i]!= df_color.color.iloc[i+2]:\n",
    "                df_color.color.iloc[i] = df_color.color.iloc[i]+' '+df_color.color.iloc[i+2]\n",
    "            df_color.lable.iloc[i+2] = 1\n",
    "            \n",
    "            if df_color.product_uid.iloc[i] == df_color.product_uid.iloc[i+3]:\n",
    "                if df_color.color.iloc[i]!= df_color.color.iloc[i+3]:\n",
    "                    df_color.color.iloc[i] = df_color.color.iloc[i]+' '+df_color.color.iloc[i+3]\n",
    "                df_color.lable.iloc[i+3] = 1\n",
    "                \n",
    "                if df_color.product_uid.iloc[i] == df_color.product_uid.iloc[i+4]:\n",
    "                    if df_color.color.iloc[i]!= df_color.color.iloc[i+4]:\n",
    "                        df_color.color.iloc[i] = df_color.color.iloc[i]+' '+df_color.color.iloc[i+4]\n",
    "                    df_color.lable.iloc[i+4] = 1\n",
    "                    \n",
    "                    if df_color.product_uid.iloc[i] == df_color.product_uid.iloc[i+5]:\n",
    "                        if df_color.color.iloc[i]!= df_color.color.iloc[i+5]:\n",
    "                            df_color.color.iloc[i] = df_color.color.iloc[i]+' '+df_color.color.iloc[i+5]\n",
    "                        df_color.lable.iloc[i+5] = 1\n",
    "                        \n",
    "                        if df_color.product_uid.iloc[i] == df_color.product_uid.iloc[i+6]:\n",
    "                            if df_color.color.iloc[i]!= df_color.color.iloc[i+6]:\n",
    "                                df_color.color.iloc[i] = df_color.color.iloc[i]+' '+df_color.color.iloc[i+6]\n",
    "                            df_color.lable.iloc[i+6] = 1\n",
    "                            \n",
    "                            if df_color.product_uid.iloc[i] == df_color.product_uid.iloc[i+7]:\n",
    "                                if df_color.color.iloc[i]!= df_color.color.iloc[i+7]:\n",
    "                                    df_color.color.iloc[i] = df_color.color.iloc[i]+' '+df_color.color.iloc[i+7]\n",
    "                                df_color.lable.iloc[i+7] = 1\n",
    "        \n",
    "        \n",
    "    else:\n",
    "        print i        "
   ]
  },
  {
   "cell_type": "code",
   "execution_count": 24,
   "metadata": {
    "collapsed": true
   },
   "outputs": [],
   "source": [
    "df_color = df_color[df_color.lable == 0]\n",
    "df_color= df_color.drop('lable', 1)"
   ]
  },
  {
   "cell_type": "code",
   "execution_count": 25,
   "metadata": {
    "collapsed": false
   },
   "outputs": [
    {
     "data": {
      "text/plain": [
       "(55693, 2)"
      ]
     },
     "execution_count": 25,
     "metadata": {},
     "output_type": "execute_result"
    }
   ],
   "source": [
    "df_color.shape"
   ]
  },
  {
   "cell_type": "code",
   "execution_count": 26,
   "metadata": {
    "collapsed": true
   },
   "outputs": [],
   "source": [
    "df_all = pd.merge(df_all, df_color, how='left', on='product_uid')"
   ]
  },
  {
   "cell_type": "code",
   "execution_count": 12,
   "metadata": {
    "collapsed": false
   },
   "outputs": [],
   "source": [
    "#type(df_all.product_title[0])"
   ]
  },
  {
   "cell_type": "code",
   "execution_count": 30,
   "metadata": {
    "collapsed": true
   },
   "outputs": [],
   "source": [
    "stop_w = ['for', 'xbi', 'and', 'in', 'th','on','sku','with','what','from','that','less','er','ing'] #'electr','paint','pipe','light','kitchen','wood','outdoor','door','bathroom'\n",
    "strNum = {'zero':0,'one':1,'two':2,'three':3,'four':4,'five':5,'six':6,'seven':7,'eight':8,'nine':9}"
   ]
  },
  {
   "cell_type": "code",
   "execution_count": 31,
   "metadata": {
    "collapsed": true
   },
   "outputs": [],
   "source": [
    "def str_stem(s): \n",
    "    if isinstance(s, unicode):\n",
    "        s = re.sub(r\"(\\w)\\.([A-Z])\", r\"\\1 \\2\", s) #Split words with a.A\n",
    "        s = s.lower()\n",
    "        s = s.replace(\"  \",\" \")\n",
    "        s = s.replace(\",\",\"\") #could be number / segment later\n",
    "        s = s.replace(\"$\",\" \")\n",
    "        s = s.replace(\"?\",\" \")\n",
    "        s = s.replace(\"-\",\" \")\n",
    "        s = s.replace(\"//\",\"/\")\n",
    "        s = s.replace(\"..\",\".\")\n",
    "        s = s.replace(\" / \",\" \")\n",
    "        s = s.replace(\" \\\\ \",\" \")\n",
    "        s = s.replace(\".\",\" . \")\n",
    "        s = re.sub(r\"(^\\.|/)\", r\"\", s)\n",
    "        s = re.sub(r\"(\\.|/)$\", r\"\", s)\n",
    "        s = re.sub(r\"([0-9])([a-z])\", r\"\\1 \\2\", s)\n",
    "        s = re.sub(r\"([a-z])([0-9])\", r\"\\1 \\2\", s)\n",
    "        s = s.replace(\" x \",\" xbi \")\n",
    "        s = re.sub(r\"([a-z])( *)\\.( *)([a-z])\", r\"\\1 \\4\", s)\n",
    "        s = re.sub(r\"([a-z])( *)/( *)([a-z])\", r\"\\1 \\4\", s)\n",
    "        s = s.replace(\"*\",\" xbi \")\n",
    "        s = s.replace(\" by \",\" xbi \")\n",
    "        s = re.sub(r\"([0-9])( *)\\.( *)([0-9])\", r\"\\1.\\4\", s)\n",
    "        s = re.sub(r\"([0-9]+)( *)(inches|inch|in|')\\.?\", r\"\\1in. \", s)\n",
    "        s = re.sub(r\"([0-9]+)( *)(foot|feet|ft|'')\\.?\", r\"\\1ft. \", s)\n",
    "        s = re.sub(r\"([0-9]+)( *)(pounds|pound|lbs|lb)\\.?\", r\"\\1lb. \", s)\n",
    "        s = re.sub(r\"([0-9]+)( *)(square|sq) ?\\.?(feet|foot|ft)\\.?\", r\"\\1sq.ft. \", s)\n",
    "        s = re.sub(r\"([0-9]+)( *)(cubic|cu) ?\\.?(feet|foot|ft)\\.?\", r\"\\1cu.ft. \", s)\n",
    "        s = re.sub(r\"([0-9]+)( *)(gallons|gallon|gal)\\.?\", r\"\\1gal. \", s)\n",
    "        s = re.sub(r\"([0-9]+)( *)(ounces|ounce|oz)\\.?\", r\"\\1oz. \", s)\n",
    "        s = re.sub(r\"([0-9]+)( *)(centimeters|cm)\\.?\", r\"\\1cm. \", s)\n",
    "        s = re.sub(r\"([0-9]+)( *)(milimeters|mm)\\.?\", r\"\\1mm. \", s)\n",
    "        s = s.replace(\"°\",\" degrees \")\n",
    "        s = re.sub(r\"([0-9]+)( *)(degrees|degree)\\.?\", r\"\\1deg. \", s)\n",
    "        s = s.replace(\" v \",\" volts \")\n",
    "        s = re.sub(r\"([0-9]+)( *)(volts|volt)\\.?\", r\"\\1volt. \", s)\n",
    "        s = re.sub(r\"([0-9]+)( *)(watts|watt)\\.?\", r\"\\1watt. \", s)\n",
    "        s = re.sub(r\"([0-9]+)( *)(amperes|ampere|amps|amp)\\.?\", r\"\\1amp. \", s)\n",
    "        s = s.replace(\"  \",\" \")\n",
    "        s = s.replace(\" . \",\" \")\n",
    "        s = (\" \").join([z for z in s.split(\" \") if z not in stop_w])\n",
    "        s = (\" \").join([str(strNum[z]) if z in strNum else z for z in s.split(\" \")])\n",
    "        s = (\" \").join([stemmer.stem(z) for z in s.split(\" \")])\n",
    "        \n",
    "        s = s.lower()\n",
    "        s = s.replace(\"toliet\",\"toilet\")\n",
    "        s = s.replace(\"airconditioner\",\"air conditioner\")\n",
    "        s = s.replace(\"vinal\",\"vinyl\")\n",
    "        s = s.replace(\"vynal\",\"vinyl\")\n",
    "        s = s.replace(\"skill\",\"skil\")\n",
    "        s = s.replace(\"snowbl\",\"snow bl\")\n",
    "        s = s.replace(\"plexigla\",\"plexi gla\")\n",
    "        s = s.replace(\"rustoleum\",\"rust-oleum\")\n",
    "        s = s.replace(\"whirpool\",\"whirlpool\")\n",
    "        s = s.replace(\"whirlpoolga\", \"whirlpool ga\")\n",
    "        s = s.replace(\"whirlpoolstainless\",\"whirlpool stainless\")\n",
    "        return s\n",
    "    \n",
    "    elif isinstance(s, str):\n",
    "        s = re.sub(r\"(\\w)\\.([A-Z])\", r\"\\1 \\2\", s) #Split words with a.A\n",
    "        s = s.lower()\n",
    "        s = s.replace(\"  \",\" \")\n",
    "        s = s.replace(\",\",\"\") #could be number / segment later\n",
    "        s = s.replace(\"$\",\" \")\n",
    "        s = s.replace(\"?\",\" \")\n",
    "        s = s.replace(\"-\",\" \")\n",
    "        s = s.replace(\"//\",\"/\")\n",
    "        s = s.replace(\"..\",\".\")\n",
    "        s = s.replace(\" / \",\" \")\n",
    "        s = s.replace(\" \\\\ \",\" \")\n",
    "        s = s.replace(\".\",\" . \")\n",
    "        s = re.sub(r\"(^\\.|/)\", r\"\", s)\n",
    "        s = re.sub(r\"(\\.|/)$\", r\"\", s)\n",
    "        s = re.sub(r\"([0-9])([a-z])\", r\"\\1 \\2\", s)\n",
    "        s = re.sub(r\"([a-z])([0-9])\", r\"\\1 \\2\", s)\n",
    "        s = s.replace(\" x \",\" xbi \")\n",
    "        s = re.sub(r\"([a-z])( *)\\.( *)([a-z])\", r\"\\1 \\4\", s)\n",
    "        s = re.sub(r\"([a-z])( *)/( *)([a-z])\", r\"\\1 \\4\", s)\n",
    "        s = s.replace(\"*\",\" xbi \")\n",
    "        s = s.replace(\" by \",\" xbi \")\n",
    "        s = re.sub(r\"([0-9])( *)\\.( *)([0-9])\", r\"\\1.\\4\", s)\n",
    "        s = re.sub(r\"([0-9]+)( *)(inches|inch|in|')\\.?\", r\"\\1in. \", s)\n",
    "        s = re.sub(r\"([0-9]+)( *)(foot|feet|ft|'')\\.?\", r\"\\1ft. \", s)\n",
    "        s = re.sub(r\"([0-9]+)( *)(pounds|pound|lbs|lb)\\.?\", r\"\\1lb. \", s)\n",
    "        s = re.sub(r\"([0-9]+)( *)(square|sq) ?\\.?(feet|foot|ft)\\.?\", r\"\\1sq.ft. \", s)\n",
    "        s = re.sub(r\"([0-9]+)( *)(cubic|cu) ?\\.?(feet|foot|ft)\\.?\", r\"\\1cu.ft. \", s)\n",
    "        s = re.sub(r\"([0-9]+)( *)(gallons|gallon|gal)\\.?\", r\"\\1gal. \", s)\n",
    "        s = re.sub(r\"([0-9]+)( *)(ounces|ounce|oz)\\.?\", r\"\\1oz. \", s)\n",
    "        s = re.sub(r\"([0-9]+)( *)(centimeters|cm)\\.?\", r\"\\1cm. \", s)\n",
    "        s = re.sub(r\"([0-9]+)( *)(milimeters|mm)\\.?\", r\"\\1mm. \", s)\n",
    "        s = s.replace(\"°\",\" degrees \")\n",
    "        s = re.sub(r\"([0-9]+)( *)(degrees|degree)\\.?\", r\"\\1deg. \", s)\n",
    "        s = s.replace(\" v \",\" volts \")\n",
    "        s = re.sub(r\"([0-9]+)( *)(volts|volt)\\.?\", r\"\\1volt. \", s)\n",
    "        s = re.sub(r\"([0-9]+)( *)(watts|watt)\\.?\", r\"\\1watt. \", s)\n",
    "        s = re.sub(r\"([0-9]+)( *)(amperes|ampere|amps|amp)\\.?\", r\"\\1amp. \", s)\n",
    "        s = s.replace(\"  \",\" \")\n",
    "        s = s.replace(\" . \",\" \")\n",
    "        s = (\" \").join([z for z in s.split(\" \") if z not in stop_w])\n",
    "        s = (\" \").join([str(strNum[z]) if z in strNum else z for z in s.split(\" \")])\n",
    "        s = (\" \").join([stemmer.stem(z) for z in s.split(\" \")])\n",
    "        \n",
    "        s = s.lower()\n",
    "        s = s.replace(\"toliet\",\"toilet\")\n",
    "        s = s.replace(\"airconditioner\",\"air conditioner\")\n",
    "        s = s.replace(\"vinal\",\"vinyl\")\n",
    "        s = s.replace(\"vynal\",\"vinyl\")\n",
    "        s = s.replace(\"skill\",\"skil\")\n",
    "        s = s.replace(\"snowbl\",\"snow bl\")\n",
    "        s = s.replace(\"plexigla\",\"plexi gla\")\n",
    "        s = s.replace(\"rustoleum\",\"rust-oleum\")\n",
    "        s = s.replace(\"whirpool\",\"whirlpool\")\n",
    "        s = s.replace(\"whirlpoolga\", \"whirlpool ga\")\n",
    "        s = s.replace(\"whirlpoolstainless\",\"whirlpool stainless\")\n",
    "        return s\n",
    "    \n",
    "    else:\n",
    "        return \"null\"\n"
   ]
  },
  {
   "cell_type": "code",
   "execution_count": 32,
   "metadata": {
    "collapsed": true
   },
   "outputs": [],
   "source": [
    "def seg_words(str1, str2):\n",
    "    str2 = str2.lower()\n",
    "    str2 = re.sub(\"[^a-z0-9./]\",\" \", str2)\n",
    "    str2 = [z for z in set(str2.split()) if len(z)>2]\n",
    "    words = str1.lower().split(\" \")\n",
    "    s = []\n",
    "    for word in words:\n",
    "        if len(word)>3:\n",
    "            s1 = []\n",
    "            s1 += segmentit(word,str2,True)\n",
    "            if len(s)>1:\n",
    "                s += [z for z in s1 if z not in ['er','ing','s','less'] and len(z)>1]\n",
    "            else:\n",
    "                s.append(word)\n",
    "        else:\n",
    "            s.append(word)\n",
    "    return (\" \".join(s))"
   ]
  },
  {
   "cell_type": "code",
   "execution_count": 33,
   "metadata": {
    "collapsed": true
   },
   "outputs": [],
   "source": [
    "def segmentit(s, txt_arr, t):\n",
    "    st = s\n",
    "    r = []\n",
    "    for j in range(len(s)):\n",
    "        for word in txt_arr:\n",
    "            if word == s[:-j]:\n",
    "                r.append(s[:-j])\n",
    "                print(s[:-j],s[len(s)-j:])\n",
    "                s=s[len(s)-j:]\n",
    "                r += segmentit(s, txt_arr, False)\n",
    "    if t:\n",
    "        i = len((\"\").join(r))\n",
    "        if not i==len(st):\n",
    "            r.append(st[i:])\n",
    "    return r"
   ]
  },
  {
   "cell_type": "code",
   "execution_count": 34,
   "metadata": {
    "collapsed": true
   },
   "outputs": [],
   "source": [
    "def str_common_word(str1, str2):\n",
    "    words, cnt = str1.split(), 0\n",
    "    for word in words:\n",
    "        if str2.find(word)>=0:\n",
    "            cnt+=1\n",
    "    return cnt"
   ]
  },
  {
   "cell_type": "code",
   "execution_count": 35,
   "metadata": {
    "collapsed": true
   },
   "outputs": [],
   "source": [
    "def str_whole_word(str1, str2, i_):\n",
    "    cnt = 0\n",
    "    while i_ < len(str2):\n",
    "        i_ = str2.find(str1, i_)\n",
    "        if i_ == -1:\n",
    "            return cnt\n",
    "        else:\n",
    "            cnt += 1\n",
    "            i_ += len(str1)\n",
    "    return cnt"
   ]
  },
  {
   "cell_type": "code",
   "execution_count": 36,
   "metadata": {
    "collapsed": false
   },
   "outputs": [],
   "source": [
    "def len_cal(x):\n",
    "    if x == 'nan':\n",
    "        return 0\n",
    "    else:\n",
    "        return len(x.split())"
   ]
  },
  {
   "cell_type": "code",
   "execution_count": 37,
   "metadata": {
    "collapsed": false
   },
   "outputs": [],
   "source": [
    "df_all['search_term'] = df_all['search_term'].map(lambda x:str_stem(x))\n",
    "df_all['product_title'] = df_all['product_title'].map(lambda x:str_stem(x))"
   ]
  },
  {
   "cell_type": "code",
   "execution_count": 38,
   "metadata": {
    "collapsed": false
   },
   "outputs": [],
   "source": [
    "df_all['product_description'] = df_all['product_description'].map(lambda x:str_stem(x))"
   ]
  },
  {
   "cell_type": "code",
   "execution_count": 39,
   "metadata": {
    "collapsed": false
   },
   "outputs": [],
   "source": [
    "df_all['brand'] = df_all['brand'].astype('unicode').map(lambda x:str_stem(x))\n",
    "df_all['material'] = df_all['material'].astype('unicode').map(lambda x:str_stem(x))\n",
    "df_all['color'] = df_all['color'].astype('unicode').map(lambda x:str_stem(x))"
   ]
  },
  {
   "cell_type": "code",
   "execution_count": 40,
   "metadata": {
    "collapsed": true
   },
   "outputs": [],
   "source": [
    "df_all['product_info'] = df_all['search_term']+\"\\t\"+df_all['product_title'] +\"\\t\"+df_all['product_description']"
   ]
  },
  {
   "cell_type": "code",
   "execution_count": 41,
   "metadata": {
    "collapsed": true
   },
   "outputs": [],
   "source": [
    "df_all['len_of_query'] = df_all['search_term'].map(lambda x:len(x.split())).astype(np.int64)\n",
    "df_all['len_of_title'] = df_all['product_title'].map(lambda x:len(x.split())).astype(np.int64)\n",
    "df_all['len_of_description'] = df_all['product_description'].map(lambda x:len(x.split())).astype(np.int64)"
   ]
  },
  {
   "cell_type": "code",
   "execution_count": 42,
   "metadata": {
    "collapsed": false
   },
   "outputs": [],
   "source": [
    "df_all['len_of_brand'] = df_all['brand'].map(lambda x:len(x.split())).astype(np.int64)"
   ]
  },
  {
   "cell_type": "code",
   "execution_count": 43,
   "metadata": {
    "collapsed": true
   },
   "outputs": [],
   "source": [
    "df_all['len_of_material'] = df_all['material'].map(lambda x:len(x.split())).astype(np.int64)"
   ]
  },
  {
   "cell_type": "code",
   "execution_count": 44,
   "metadata": {
    "collapsed": true
   },
   "outputs": [],
   "source": [
    "df_all['len_of_color'] = df_all['color'].map(lambda x:len(x.split())).astype(np.int64)"
   ]
  },
  {
   "cell_type": "code",
   "execution_count": 45,
   "metadata": {
    "collapsed": false
   },
   "outputs": [],
   "source": [
    "df_all['search_term'] = df_all['product_info'].map(lambda x:seg_words(x.split('\\t')[0],x.split('\\t')[1]))\n",
    "#df_all = df_all.drop('search_term1',1)"
   ]
  },
  {
   "cell_type": "code",
   "execution_count": 46,
   "metadata": {
    "collapsed": false
   },
   "outputs": [],
   "source": [
    "df_all['query_in_title'] = df_all['product_info'].map(lambda x:str_whole_word(x.split('\\t')[0],x.split('\\t')[1],0))\n",
    "df_all['query_in_description'] = df_all['product_info'].map(lambda x:str_whole_word(x.split('\\t')[0],x.split('\\t')[2],0))"
   ]
  },
  {
   "cell_type": "code",
   "execution_count": 47,
   "metadata": {
    "collapsed": true
   },
   "outputs": [],
   "source": [
    "df_all['query_last_word_in_title'] = df_all['product_info'].map(lambda x:str_common_word(x.split('\\t')[0].split(\" \")[-1],x.split('\\t')[1]))\n",
    "df_all['query_last_word_in_description'] = df_all['product_info'].map(lambda x:str_common_word(x.split('\\t')[0].split(\" \")[-1],x.split('\\t')[2]))"
   ]
  },
  {
   "cell_type": "code",
   "execution_count": 48,
   "metadata": {
    "collapsed": true
   },
   "outputs": [],
   "source": [
    "df_all['word_in_title'] = df_all['product_info'].map(lambda x:str_common_word(x.split('\\t')[0],x.split('\\t')[1]))\n",
    "df_all['word_in_description'] = df_all['product_info'].map(lambda x:str_common_word(x.split('\\t')[0],x.split('\\t')[2]))"
   ]
  },
  {
   "cell_type": "code",
   "execution_count": 49,
   "metadata": {
    "collapsed": true
   },
   "outputs": [],
   "source": [
    "df_all['ratio_title'] = df_all['word_in_title']/df_all['len_of_query']\n",
    "df_all['ratio_description'] = df_all['word_in_description']/df_all['len_of_query']"
   ]
  },
  {
   "cell_type": "code",
   "execution_count": 50,
   "metadata": {
    "collapsed": true
   },
   "outputs": [],
   "source": [
    "df_all['attr'] = df_all['search_term']+\"\\t\"+df_all['brand']+'\\t'+df_all['material']+'\\t'+df_all['color']\n",
    "df_all['word_in_brand'] = df_all['attr'].map(lambda x:str_common_word(x.split('\\t')[0],x.split('\\t')[1]))\n",
    "df_all['word_in_material'] = df_all['attr'].map(lambda x:str_common_word(x.split('\\t')[0],x.split('\\t')[2]))\n",
    "df_all['word_in_color'] = df_all['attr'].map(lambda x:str_common_word(x.split('\\t')[0],x.split('\\t')[3]))"
   ]
  },
  {
   "cell_type": "code",
   "execution_count": 140,
   "metadata": {
    "collapsed": true
   },
   "outputs": [],
   "source": [
    "df_all['ratio_brand'] = df_all['word_in_brand']/df_all['len_of_brand']\n",
    "df_all['ratio_material'] = df_all['word_in_material']/df_all['len_of_material']"
   ]
  },
  {
   "cell_type": "code",
   "execution_count": 138,
   "metadata": {
    "collapsed": true
   },
   "outputs": [],
   "source": [
    "df_all['ratio_color'] = df_all['word_in_color']/df_all['len_of_color']"
   ]
  },
  {
   "cell_type": "code",
   "execution_count": 147,
   "metadata": {
    "collapsed": true
   },
   "outputs": [],
   "source": [
    "#df_all['len_of_brand'] = df_all['brand'].map(lambda x: len_cal(x)).astype(np.int64)\n",
    "#df_all['len_of_material'] = df_all['material'].map(lambda x: len_cal(x)).astype(np.int64)"
   ]
  },
  {
   "cell_type": "code",
   "execution_count": 158,
   "metadata": {
    "collapsed": false
   },
   "outputs": [],
   "source": [
    "#df_all.ix[:,9:]"
   ]
  },
  {
   "cell_type": "code",
   "execution_count": 48,
   "metadata": {
    "collapsed": false
   },
   "outputs": [],
   "source": [
    "df_brand = pd.unique(df_all.brand.ravel())\n",
    "df_material = pd.unique(df_all.material.ravel())\n",
    "df_color = pd.unique(df_all.color.ravel())"
   ]
  },
  {
   "cell_type": "code",
   "execution_count": 49,
   "metadata": {
    "collapsed": false
   },
   "outputs": [],
   "source": [
    "d_brand={}\n",
    "i = 1\n",
    "for s in df_brand:\n",
    "    d_brand[s]=i\n",
    "    i+=1"
   ]
  },
  {
   "cell_type": "code",
   "execution_count": 50,
   "metadata": {
    "collapsed": true
   },
   "outputs": [],
   "source": [
    "d_material={}\n",
    "i = 1\n",
    "for s in df_material:\n",
    "    d_material[s]=i\n",
    "    i+=1"
   ]
  },
  {
   "cell_type": "code",
   "execution_count": 51,
   "metadata": {
    "collapsed": true
   },
   "outputs": [],
   "source": [
    "d_color={}\n",
    "i = 1\n",
    "for s in df_color:\n",
    "    d_color[s]=i\n",
    "    i+=1"
   ]
  },
  {
   "cell_type": "code",
   "execution_count": 52,
   "metadata": {
    "collapsed": false
   },
   "outputs": [],
   "source": [
    "df_all['brand_feature'] = df_all['brand'].map(lambda x:d_brand[x])\n",
    "df_all['material_feature'] = df_all['material'].map(lambda x:d_material[x])\n",
    "df_all['color_feature'] = df_all['color'].map(lambda x:d_color[x])"
   ]
  },
  {
   "cell_type": "code",
   "execution_count": 53,
   "metadata": {
    "collapsed": false
   },
   "outputs": [],
   "source": [
    "df_all['search_term_feature'] = df_all['search_term'].map(lambda x:len(x))"
   ]
  },
  {
   "cell_type": "code",
   "execution_count": 55,
   "metadata": {
    "collapsed": false
   },
   "outputs": [
    {
     "data": {
      "text/plain": [
       "(240760, 36)"
      ]
     },
     "execution_count": 55,
     "metadata": {},
     "output_type": "execute_result"
    }
   ],
   "source": [
    "df_all.shape"
   ]
  },
  {
   "cell_type": "code",
   "execution_count": 54,
   "metadata": {
    "collapsed": true
   },
   "outputs": [],
   "source": [
    "df_all.to_csv('df_all.csv')"
   ]
  },
  {
   "cell_type": "code",
   "execution_count": 4,
   "metadata": {
    "collapsed": false
   },
   "outputs": [],
   "source": [
    "#df_all.iloc[0]"
   ]
  },
  {
   "cell_type": "code",
   "execution_count": 7,
   "metadata": {
    "collapsed": false
   },
   "outputs": [],
   "source": [
    "df_all = pd.read_csv('features/df_all.csv', encoding=\"ISO-8859-1\", index_col=0)\n",
    "#df_all = df_all.fillna('nan')"
   ]
  },
  {
   "cell_type": "code",
   "execution_count": 57,
   "metadata": {
    "collapsed": false
   },
   "outputs": [],
   "source": [
    "#df_all['all_info'] = df_all['search_term']+' '+df_all['product_title']+' '+df_all['product_description']+' '+df_all['material']+' '+df_all['brand']"
   ]
  },
  {
   "cell_type": "code",
   "execution_count": 8,
   "metadata": {
    "collapsed": false
   },
   "outputs": [],
   "source": [
    "df_train = df_all[df_all.label == 'train']\n",
    "df_test = df_all[df_all.label == 'test']\n",
    "id_test = df_test['id']\n",
    "y_train = df_train['relevance'].values\n",
    "X_train =df_train[:]\n",
    "X_test = df_test[:]\n",
    "print(\"--- Features Set: %s minutes ---\" % round(((time.time() - start_time)/60),2))"
   ]
  },
  {
   "cell_type": "code",
   "execution_count": 9,
   "metadata": {
    "collapsed": false
   },
   "outputs": [],
   "source": [
    "X_train = X_train.drop('label', 1)\n",
    "X_test = X_test.drop('label',1)"
   ]
  },
  {
   "cell_type": "code",
   "execution_count": 34,
   "metadata": {
    "collapsed": false
   },
   "outputs": [],
   "source": [
    "#df_all.iloc[0]"
   ]
  },
  {
   "cell_type": "code",
   "execution_count": 10,
   "metadata": {
    "collapsed": false
   },
   "outputs": [],
   "source": [
    "def fmean_squared_error(ground_truth, predictions):\n",
    "    fmean_squared_error_ = mean_squared_error(ground_truth, predictions)**0.5\n",
    "    return fmean_squared_error_\n",
    "\n",
    "RMSE  = make_scorer(fmean_squared_error, greater_is_better=False)\n",
    "\n",
    "class cust_regression_vals(BaseEstimator, TransformerMixin):\n",
    "    def fit(self, x, y=None):\n",
    "        return self\n",
    "    def transform(self, hd_searches):\n",
    "        d_col_drops=['id','relevance','search_term','product_title','product_description','product_info','attr','brand','material','color']\n",
    "    \n",
    "        hd_searches = hd_searches.drop(d_col_drops,axis=1).values\n",
    "        return hd_searches\n",
    "\n",
    "class cust_txt_col(BaseEstimator, TransformerMixin):\n",
    "    def __init__(self, key):\n",
    "        self.key = key\n",
    "    def fit(self, x, y=None):\n",
    "        return self\n",
    "    def transform(self, data_dict):\n",
    "        return data_dict[self.key].apply(str)"
   ]
  },
  {
   "cell_type": "code",
   "execution_count": 27,
   "metadata": {
    "collapsed": false
   },
   "outputs": [],
   "source": [
    "rfr = ensemble.RandomForestRegressor(n_estimators = 500, n_jobs = -1, random_state = 2016, verbose = 1)\n",
    "tfidf = TfidfVectorizer(ngram_range=(1, 3), stop_words='english')\n",
    "tsvd = TruncatedSVD(n_components=30, random_state = 2016)"
   ]
  },
  {
   "cell_type": "code",
   "execution_count": 28,
   "metadata": {
    "collapsed": false
   },
   "outputs": [],
   "source": [
    "clf = pipeline.Pipeline([\n",
    "        ('union', FeatureUnion(\n",
    "                    transformer_list = [\n",
    "                        ('cst',  cust_regression_vals()),  \n",
    "                        ('txt1', pipeline.Pipeline([('s1', cust_txt_col(key='search_term')), ('tfidf1', tfidf), ('tsvd1', tsvd)])),\n",
    "                        ('txt2', pipeline.Pipeline([('s2', cust_txt_col(key='product_title')), ('tfidf2', tfidf), ('tsvd2', tsvd)])),\n",
    "                        ('txt3', pipeline.Pipeline([('s3', cust_txt_col(key='product_description')), ('tfidf3', tfidf), ('tsvd3', tsvd)])),\n",
    "                        ('txt4', pipeline.Pipeline([('s4', cust_txt_col(key='brand')), ('tfidf4', tfidf), ('tsvd4', tsvd)])),\n",
    "                        ('txt5', pipeline.Pipeline([('s5', cust_txt_col(key='material')), ('tfidf5', tfidf), ('tsvd5', tsvd)])),\n",
    "                        ('txt6', pipeline.Pipeline([('s6', cust_txt_col(key='color')), ('tfidf6', tfidf), ('tsvd6', tsvd)]))\n",
    "                        ],\n",
    "                    transformer_weights = {\n",
    "                        'cst': 1,\n",
    "                        'txt1': 0.5,\n",
    "                        'txt2': 0.25,\n",
    "                        'txt3': 0.25,\n",
    "                        'txt4': 0.5,\n",
    "                        'txt5': 0.25,\n",
    "                        'txt6': 0.25\n",
    "                        },\n",
    "                #n_jobs = -1\n",
    "                )),])"
   ]
  },
  {
   "cell_type": "code",
   "execution_count": 40,
   "metadata": {
    "collapsed": false
   },
   "outputs": [
    {
     "data": {
      "text/html": [
       "<div>\n",
       "<table border=\"1\" class=\"dataframe\">\n",
       "  <thead>\n",
       "    <tr style=\"text-align: right;\">\n",
       "      <th></th>\n",
       "      <th>id</th>\n",
       "      <th>label</th>\n",
       "      <th>product_title</th>\n",
       "      <th>product_uid</th>\n",
       "      <th>relevance</th>\n",
       "      <th>search_term</th>\n",
       "      <th>product_description</th>\n",
       "      <th>brand</th>\n",
       "      <th>material</th>\n",
       "      <th>color</th>\n",
       "      <th>...</th>\n",
       "      <th>word_in_brand</th>\n",
       "      <th>word_in_material</th>\n",
       "      <th>word_in_color</th>\n",
       "      <th>ratio_brand</th>\n",
       "      <th>ratio_material</th>\n",
       "      <th>ratio_color</th>\n",
       "      <th>brand_feature</th>\n",
       "      <th>material_feature</th>\n",
       "      <th>color_feature</th>\n",
       "      <th>search_term_feature</th>\n",
       "    </tr>\n",
       "  </thead>\n",
       "  <tbody>\n",
       "    <tr>\n",
       "      <th>0</th>\n",
       "      <td>2</td>\n",
       "      <td>train</td>\n",
       "      <td>simpson strong tie 12 gaug angl</td>\n",
       "      <td>100001</td>\n",
       "      <td>3.00</td>\n",
       "      <td>angl bracket</td>\n",
       "      <td>not onli do angl make joint stronger they also...</td>\n",
       "      <td>simpson strong tie</td>\n",
       "      <td>galvan steel</td>\n",
       "      <td>NaN</td>\n",
       "      <td>...</td>\n",
       "      <td>0</td>\n",
       "      <td>0</td>\n",
       "      <td>0</td>\n",
       "      <td>0.000000</td>\n",
       "      <td>0.00</td>\n",
       "      <td>0.000000</td>\n",
       "      <td>1</td>\n",
       "      <td>1</td>\n",
       "      <td>1</td>\n",
       "      <td>12</td>\n",
       "    </tr>\n",
       "    <tr>\n",
       "      <th>1</th>\n",
       "      <td>3</td>\n",
       "      <td>train</td>\n",
       "      <td>simpson strong tie 12 gaug angl</td>\n",
       "      <td>100001</td>\n",
       "      <td>2.50</td>\n",
       "      <td>l bracket</td>\n",
       "      <td>not onli do angl make joint stronger they also...</td>\n",
       "      <td>simpson strong tie</td>\n",
       "      <td>galvan steel</td>\n",
       "      <td>NaN</td>\n",
       "      <td>...</td>\n",
       "      <td>0</td>\n",
       "      <td>1</td>\n",
       "      <td>0</td>\n",
       "      <td>0.000000</td>\n",
       "      <td>0.50</td>\n",
       "      <td>0.000000</td>\n",
       "      <td>1</td>\n",
       "      <td>1</td>\n",
       "      <td>1</td>\n",
       "      <td>9</td>\n",
       "    </tr>\n",
       "    <tr>\n",
       "      <th>2</th>\n",
       "      <td>9</td>\n",
       "      <td>train</td>\n",
       "      <td>behr premium textur deckov 1gal. #sc 141 tugbo...</td>\n",
       "      <td>100002</td>\n",
       "      <td>3.00</td>\n",
       "      <td>deck over</td>\n",
       "      <td>behr premium textur deckov is an innov solid c...</td>\n",
       "      <td>behr premium textur deckov</td>\n",
       "      <td>NaN</td>\n",
       "      <td>brown tan tugboat</td>\n",
       "      <td>...</td>\n",
       "      <td>1</td>\n",
       "      <td>0</td>\n",
       "      <td>0</td>\n",
       "      <td>0.250000</td>\n",
       "      <td>0.00</td>\n",
       "      <td>0.000000</td>\n",
       "      <td>2</td>\n",
       "      <td>2</td>\n",
       "      <td>2</td>\n",
       "      <td>9</td>\n",
       "    </tr>\n",
       "    <tr>\n",
       "      <th>3</th>\n",
       "      <td>16</td>\n",
       "      <td>train</td>\n",
       "      <td>delta vero 1 handl shower onli faucet trim kit...</td>\n",
       "      <td>100005</td>\n",
       "      <td>2.33</td>\n",
       "      <td>rain shower head</td>\n",
       "      <td>updat your bathroom the delta vero singl handl...</td>\n",
       "      <td>delta</td>\n",
       "      <td>NaN</td>\n",
       "      <td>chrome</td>\n",
       "      <td>...</td>\n",
       "      <td>0</td>\n",
       "      <td>0</td>\n",
       "      <td>0</td>\n",
       "      <td>0.000000</td>\n",
       "      <td>0.00</td>\n",
       "      <td>0.000000</td>\n",
       "      <td>3</td>\n",
       "      <td>2</td>\n",
       "      <td>3</td>\n",
       "      <td>16</td>\n",
       "    </tr>\n",
       "    <tr>\n",
       "      <th>4</th>\n",
       "      <td>17</td>\n",
       "      <td>train</td>\n",
       "      <td>delta vero 1 handl shower onli faucet trim kit...</td>\n",
       "      <td>100005</td>\n",
       "      <td>2.67</td>\n",
       "      <td>shower onli faucet</td>\n",
       "      <td>updat your bathroom the delta vero singl handl...</td>\n",
       "      <td>delta</td>\n",
       "      <td>NaN</td>\n",
       "      <td>chrome</td>\n",
       "      <td>...</td>\n",
       "      <td>0</td>\n",
       "      <td>0</td>\n",
       "      <td>0</td>\n",
       "      <td>0.000000</td>\n",
       "      <td>0.00</td>\n",
       "      <td>0.000000</td>\n",
       "      <td>3</td>\n",
       "      <td>2</td>\n",
       "      <td>3</td>\n",
       "      <td>18</td>\n",
       "    </tr>\n",
       "    <tr>\n",
       "      <th>5</th>\n",
       "      <td>18</td>\n",
       "      <td>train</td>\n",
       "      <td>whirlpool 1.9cu.ft. over the rang convect micr...</td>\n",
       "      <td>100006</td>\n",
       "      <td>3.00</td>\n",
       "      <td>convect otr</td>\n",
       "      <td>achiev delici result is almost effortless thi ...</td>\n",
       "      <td>whirlpool</td>\n",
       "      <td>NaN</td>\n",
       "      <td>stainless steel stainless</td>\n",
       "      <td>...</td>\n",
       "      <td>0</td>\n",
       "      <td>0</td>\n",
       "      <td>0</td>\n",
       "      <td>0.000000</td>\n",
       "      <td>0.00</td>\n",
       "      <td>0.000000</td>\n",
       "      <td>4</td>\n",
       "      <td>2</td>\n",
       "      <td>4</td>\n",
       "      <td>11</td>\n",
       "    </tr>\n",
       "    <tr>\n",
       "      <th>6</th>\n",
       "      <td>20</td>\n",
       "      <td>train</td>\n",
       "      <td>whirlpool 1.9cu.ft. over the rang convect micr...</td>\n",
       "      <td>100006</td>\n",
       "      <td>2.67</td>\n",
       "      <td>microwav over stove</td>\n",
       "      <td>achiev delici result is almost effortless thi ...</td>\n",
       "      <td>whirlpool</td>\n",
       "      <td>NaN</td>\n",
       "      <td>stainless steel stainless</td>\n",
       "      <td>...</td>\n",
       "      <td>0</td>\n",
       "      <td>0</td>\n",
       "      <td>0</td>\n",
       "      <td>0.000000</td>\n",
       "      <td>0.00</td>\n",
       "      <td>0.000000</td>\n",
       "      <td>4</td>\n",
       "      <td>2</td>\n",
       "      <td>4</td>\n",
       "      <td>19</td>\n",
       "    </tr>\n",
       "    <tr>\n",
       "      <th>7</th>\n",
       "      <td>21</td>\n",
       "      <td>train</td>\n",
       "      <td>whirlpool 1.9cu.ft. over the rang convect micr...</td>\n",
       "      <td>100006</td>\n",
       "      <td>3.00</td>\n",
       "      <td>microwav</td>\n",
       "      <td>achiev delici result is almost effortless thi ...</td>\n",
       "      <td>whirlpool</td>\n",
       "      <td>NaN</td>\n",
       "      <td>stainless steel stainless</td>\n",
       "      <td>...</td>\n",
       "      <td>0</td>\n",
       "      <td>0</td>\n",
       "      <td>0</td>\n",
       "      <td>0.000000</td>\n",
       "      <td>0.00</td>\n",
       "      <td>0.000000</td>\n",
       "      <td>4</td>\n",
       "      <td>2</td>\n",
       "      <td>4</td>\n",
       "      <td>8</td>\n",
       "    </tr>\n",
       "    <tr>\n",
       "      <th>8</th>\n",
       "      <td>23</td>\n",
       "      <td>train</td>\n",
       "      <td>lithonia light quantum 2 light black led emerg...</td>\n",
       "      <td>100007</td>\n",
       "      <td>2.67</td>\n",
       "      <td>emerg light</td>\n",
       "      <td>the quantum adjust 2 light led black emerg lig...</td>\n",
       "      <td>lithonia light</td>\n",
       "      <td>plastic</td>\n",
       "      <td>black</td>\n",
       "      <td>...</td>\n",
       "      <td>1</td>\n",
       "      <td>0</td>\n",
       "      <td>0</td>\n",
       "      <td>0.500000</td>\n",
       "      <td>0.00</td>\n",
       "      <td>0.000000</td>\n",
       "      <td>5</td>\n",
       "      <td>3</td>\n",
       "      <td>5</td>\n",
       "      <td>11</td>\n",
       "    </tr>\n",
       "    <tr>\n",
       "      <th>9</th>\n",
       "      <td>27</td>\n",
       "      <td>train</td>\n",
       "      <td>hous of fara 34in. 3in. 8ft. mdf flute case</td>\n",
       "      <td>100009</td>\n",
       "      <td>3.00</td>\n",
       "      <td>mdf 34</td>\n",
       "      <td>get the hous of fara 34in. 3in. 8ft. mdf flute...</td>\n",
       "      <td>hous of fara</td>\n",
       "      <td>medium densiti fiberboard (mdf)</td>\n",
       "      <td>white</td>\n",
       "      <td>...</td>\n",
       "      <td>0</td>\n",
       "      <td>1</td>\n",
       "      <td>0</td>\n",
       "      <td>0.000000</td>\n",
       "      <td>0.25</td>\n",
       "      <td>0.000000</td>\n",
       "      <td>6</td>\n",
       "      <td>4</td>\n",
       "      <td>6</td>\n",
       "      <td>6</td>\n",
       "    </tr>\n",
       "    <tr>\n",
       "      <th>10</th>\n",
       "      <td>34</td>\n",
       "      <td>train</td>\n",
       "      <td>valley view industri metal stake (4 pack)</td>\n",
       "      <td>100010</td>\n",
       "      <td>2.67</td>\n",
       "      <td>steel stake</td>\n",
       "      <td>valley view industri metal stake (4 pack) are ...</td>\n",
       "      <td>valley view industri</td>\n",
       "      <td>steel</td>\n",
       "      <td>metal silvergray</td>\n",
       "      <td>...</td>\n",
       "      <td>0</td>\n",
       "      <td>1</td>\n",
       "      <td>0</td>\n",
       "      <td>0.000000</td>\n",
       "      <td>1.00</td>\n",
       "      <td>0.000000</td>\n",
       "      <td>7</td>\n",
       "      <td>5</td>\n",
       "      <td>7</td>\n",
       "      <td>11</td>\n",
       "    </tr>\n",
       "    <tr>\n",
       "      <th>11</th>\n",
       "      <td>35</td>\n",
       "      <td>train</td>\n",
       "      <td>toro person pace recycl 22in. variabl speed se...</td>\n",
       "      <td>100011</td>\n",
       "      <td>3.00</td>\n",
       "      <td>brigg stratton lawn mower</td>\n",
       "      <td>recycl 22in. person pace variabl speed self pr...</td>\n",
       "      <td>toro</td>\n",
       "      <td>NaN</td>\n",
       "      <td>NaN</td>\n",
       "      <td>...</td>\n",
       "      <td>0</td>\n",
       "      <td>0</td>\n",
       "      <td>0</td>\n",
       "      <td>0.000000</td>\n",
       "      <td>0.00</td>\n",
       "      <td>0.000000</td>\n",
       "      <td>8</td>\n",
       "      <td>2</td>\n",
       "      <td>1</td>\n",
       "      <td>25</td>\n",
       "    </tr>\n",
       "    <tr>\n",
       "      <th>12</th>\n",
       "      <td>37</td>\n",
       "      <td>train</td>\n",
       "      <td>toro person pace recycl 22in. variabl speed se...</td>\n",
       "      <td>100011</td>\n",
       "      <td>3.00</td>\n",
       "      <td>ga mow</td>\n",
       "      <td>recycl 22in. person pace variabl speed self pr...</td>\n",
       "      <td>toro</td>\n",
       "      <td>NaN</td>\n",
       "      <td>NaN</td>\n",
       "      <td>...</td>\n",
       "      <td>0</td>\n",
       "      <td>0</td>\n",
       "      <td>0</td>\n",
       "      <td>0.000000</td>\n",
       "      <td>0.00</td>\n",
       "      <td>0.000000</td>\n",
       "      <td>8</td>\n",
       "      <td>2</td>\n",
       "      <td>1</td>\n",
       "      <td>6</td>\n",
       "    </tr>\n",
       "    <tr>\n",
       "      <th>13</th>\n",
       "      <td>38</td>\n",
       "      <td>train</td>\n",
       "      <td>toro person pace recycl 22in. variabl speed se...</td>\n",
       "      <td>100011</td>\n",
       "      <td>2.00</td>\n",
       "      <td>honda mower</td>\n",
       "      <td>recycl 22in. person pace variabl speed self pr...</td>\n",
       "      <td>toro</td>\n",
       "      <td>NaN</td>\n",
       "      <td>NaN</td>\n",
       "      <td>...</td>\n",
       "      <td>0</td>\n",
       "      <td>0</td>\n",
       "      <td>0</td>\n",
       "      <td>0.000000</td>\n",
       "      <td>0.00</td>\n",
       "      <td>0.000000</td>\n",
       "      <td>8</td>\n",
       "      <td>2</td>\n",
       "      <td>1</td>\n",
       "      <td>11</td>\n",
       "    </tr>\n",
       "    <tr>\n",
       "      <th>14</th>\n",
       "      <td>48</td>\n",
       "      <td>train</td>\n",
       "      <td>hampton bay caramel simpl weav bamboo rollup s...</td>\n",
       "      <td>100012</td>\n",
       "      <td>2.67</td>\n",
       "      <td>hampton bay chestnut pull up shade</td>\n",
       "      <td>the 96in. wide caramel simpl weav rollup bambo...</td>\n",
       "      <td>hampton bay</td>\n",
       "      <td>bamboo</td>\n",
       "      <td>tan caramel brownstan fruitwood</td>\n",
       "      <td>...</td>\n",
       "      <td>2</td>\n",
       "      <td>0</td>\n",
       "      <td>0</td>\n",
       "      <td>1.000000</td>\n",
       "      <td>0.00</td>\n",
       "      <td>0.000000</td>\n",
       "      <td>9</td>\n",
       "      <td>6</td>\n",
       "      <td>8</td>\n",
       "      <td>34</td>\n",
       "    </tr>\n",
       "    <tr>\n",
       "      <th>15</th>\n",
       "      <td>51</td>\n",
       "      <td>train</td>\n",
       "      <td>insinker sinktop switch singl outlet insinker ...</td>\n",
       "      <td>100013</td>\n",
       "      <td>2.67</td>\n",
       "      <td>dispos</td>\n",
       "      <td>the insinker sinktop switch singl outlet insin...</td>\n",
       "      <td>insinker</td>\n",
       "      <td>NaN</td>\n",
       "      <td>black</td>\n",
       "      <td>...</td>\n",
       "      <td>0</td>\n",
       "      <td>0</td>\n",
       "      <td>0</td>\n",
       "      <td>0.000000</td>\n",
       "      <td>0.00</td>\n",
       "      <td>0.000000</td>\n",
       "      <td>10</td>\n",
       "      <td>2</td>\n",
       "      <td>5</td>\n",
       "      <td>6</td>\n",
       "    </tr>\n",
       "    <tr>\n",
       "      <th>16</th>\n",
       "      <td>65</td>\n",
       "      <td>train</td>\n",
       "      <td>sunjoy calai 8ft. 5ft. 8ft. steel tile fabric ...</td>\n",
       "      <td>100016</td>\n",
       "      <td>3.00</td>\n",
       "      <td>grill gazebo</td>\n",
       "      <td>make grill great thi handsom function grill ga...</td>\n",
       "      <td>sunjoy</td>\n",
       "      <td>steel</td>\n",
       "      <td>black</td>\n",
       "      <td>...</td>\n",
       "      <td>0</td>\n",
       "      <td>0</td>\n",
       "      <td>0</td>\n",
       "      <td>0.000000</td>\n",
       "      <td>0.00</td>\n",
       "      <td>0.000000</td>\n",
       "      <td>11</td>\n",
       "      <td>5</td>\n",
       "      <td>5</td>\n",
       "      <td>12</td>\n",
       "    </tr>\n",
       "    <tr>\n",
       "      <th>17</th>\n",
       "      <td>69</td>\n",
       "      <td>train</td>\n",
       "      <td>md build product 36in. 36in. cloverleaf alumin...</td>\n",
       "      <td>100017</td>\n",
       "      <td>1.00</td>\n",
       "      <td>door guard</td>\n",
       "      <td>the md build product 36in. 36in. 150in. alumin...</td>\n",
       "      <td>md build product</td>\n",
       "      <td>aluminum</td>\n",
       "      <td>NaN</td>\n",
       "      <td>...</td>\n",
       "      <td>0</td>\n",
       "      <td>0</td>\n",
       "      <td>0</td>\n",
       "      <td>0.000000</td>\n",
       "      <td>0.00</td>\n",
       "      <td>0.000000</td>\n",
       "      <td>12</td>\n",
       "      <td>7</td>\n",
       "      <td>1</td>\n",
       "      <td>10</td>\n",
       "    </tr>\n",
       "    <tr>\n",
       "      <th>18</th>\n",
       "      <td>75</td>\n",
       "      <td>train</td>\n",
       "      <td>md build product 36in. 36in. cloverleaf alumin...</td>\n",
       "      <td>100017</td>\n",
       "      <td>1.67</td>\n",
       "      <td>metal plate cover gcfi</td>\n",
       "      <td>the md build product 36in. 36in. 150in. alumin...</td>\n",
       "      <td>md build product</td>\n",
       "      <td>aluminum</td>\n",
       "      <td>NaN</td>\n",
       "      <td>...</td>\n",
       "      <td>0</td>\n",
       "      <td>0</td>\n",
       "      <td>0</td>\n",
       "      <td>0.000000</td>\n",
       "      <td>0.00</td>\n",
       "      <td>0.000000</td>\n",
       "      <td>12</td>\n",
       "      <td>7</td>\n",
       "      <td>1</td>\n",
       "      <td>22</td>\n",
       "    </tr>\n",
       "    <tr>\n",
       "      <th>19</th>\n",
       "      <td>81</td>\n",
       "      <td>train</td>\n",
       "      <td>md build product 36in. 36in. cloverleaf alumin...</td>\n",
       "      <td>100017</td>\n",
       "      <td>2.33</td>\n",
       "      <td>radiat grate</td>\n",
       "      <td>the md build product 36in. 36in. 150in. alumin...</td>\n",
       "      <td>md build product</td>\n",
       "      <td>aluminum</td>\n",
       "      <td>NaN</td>\n",
       "      <td>...</td>\n",
       "      <td>0</td>\n",
       "      <td>0</td>\n",
       "      <td>0</td>\n",
       "      <td>0.000000</td>\n",
       "      <td>0.00</td>\n",
       "      <td>0.000000</td>\n",
       "      <td>12</td>\n",
       "      <td>7</td>\n",
       "      <td>1</td>\n",
       "      <td>12</td>\n",
       "    </tr>\n",
       "    <tr>\n",
       "      <th>20</th>\n",
       "      <td>85</td>\n",
       "      <td>train</td>\n",
       "      <td>md build product 36in. 36in. cloverleaf alumin...</td>\n",
       "      <td>100017</td>\n",
       "      <td>2.33</td>\n",
       "      <td>window screen</td>\n",
       "      <td>the md build product 36in. 36in. 150in. alumin...</td>\n",
       "      <td>md build product</td>\n",
       "      <td>aluminum</td>\n",
       "      <td>NaN</td>\n",
       "      <td>...</td>\n",
       "      <td>0</td>\n",
       "      <td>0</td>\n",
       "      <td>0</td>\n",
       "      <td>0.000000</td>\n",
       "      <td>0.00</td>\n",
       "      <td>0.000000</td>\n",
       "      <td>12</td>\n",
       "      <td>7</td>\n",
       "      <td>1</td>\n",
       "      <td>13</td>\n",
       "    </tr>\n",
       "    <tr>\n",
       "      <th>21</th>\n",
       "      <td>88</td>\n",
       "      <td>train</td>\n",
       "      <td>hous of fara 8 linear ft mdf overlap wainscot ...</td>\n",
       "      <td>100019</td>\n",
       "      <td>1.33</td>\n",
       "      <td>1 1 rail decor wood</td>\n",
       "      <td>the hous of fara 8 linear ft prime mdf overlap...</td>\n",
       "      <td>hous of fara</td>\n",
       "      <td>medium densiti fiberboard (mdf)</td>\n",
       "      <td>white</td>\n",
       "      <td>...</td>\n",
       "      <td>0</td>\n",
       "      <td>0</td>\n",
       "      <td>0</td>\n",
       "      <td>0.000000</td>\n",
       "      <td>0.00</td>\n",
       "      <td>0.000000</td>\n",
       "      <td>6</td>\n",
       "      <td>4</td>\n",
       "      <td>6</td>\n",
       "      <td>19</td>\n",
       "    </tr>\n",
       "    <tr>\n",
       "      <th>22</th>\n",
       "      <td>90</td>\n",
       "      <td>train</td>\n",
       "      <td>hous of fara 8 linear ft mdf overlap wainscot ...</td>\n",
       "      <td>100019</td>\n",
       "      <td>2.67</td>\n",
       "      <td>4 8 beadboard panel</td>\n",
       "      <td>the hous of fara 8 linear ft prime mdf overlap...</td>\n",
       "      <td>hous of fara</td>\n",
       "      <td>medium densiti fiberboard (mdf)</td>\n",
       "      <td>white</td>\n",
       "      <td>...</td>\n",
       "      <td>0</td>\n",
       "      <td>0</td>\n",
       "      <td>0</td>\n",
       "      <td>0.000000</td>\n",
       "      <td>0.00</td>\n",
       "      <td>0.000000</td>\n",
       "      <td>6</td>\n",
       "      <td>4</td>\n",
       "      <td>6</td>\n",
       "      <td>19</td>\n",
       "    </tr>\n",
       "    <tr>\n",
       "      <th>23</th>\n",
       "      <td>92</td>\n",
       "      <td>train</td>\n",
       "      <td>hous of fara 8 linear ft mdf overlap wainscot ...</td>\n",
       "      <td>100019</td>\n",
       "      <td>2.33</td>\n",
       "      <td>4 8 wood panel</td>\n",
       "      <td>the hous of fara 8 linear ft prime mdf overlap...</td>\n",
       "      <td>hous of fara</td>\n",
       "      <td>medium densiti fiberboard (mdf)</td>\n",
       "      <td>white</td>\n",
       "      <td>...</td>\n",
       "      <td>0</td>\n",
       "      <td>0</td>\n",
       "      <td>0</td>\n",
       "      <td>0.000000</td>\n",
       "      <td>0.00</td>\n",
       "      <td>0.000000</td>\n",
       "      <td>6</td>\n",
       "      <td>4</td>\n",
       "      <td>6</td>\n",
       "      <td>14</td>\n",
       "    </tr>\n",
       "    <tr>\n",
       "      <th>24</th>\n",
       "      <td>101</td>\n",
       "      <td>train</td>\n",
       "      <td>hous of fara 8 linear ft mdf overlap wainscot ...</td>\n",
       "      <td>100019</td>\n",
       "      <td>1.33</td>\n",
       "      <td>mdf 4 8</td>\n",
       "      <td>the hous of fara 8 linear ft prime mdf overlap...</td>\n",
       "      <td>hous of fara</td>\n",
       "      <td>medium densiti fiberboard (mdf)</td>\n",
       "      <td>white</td>\n",
       "      <td>...</td>\n",
       "      <td>0</td>\n",
       "      <td>1</td>\n",
       "      <td>0</td>\n",
       "      <td>0.000000</td>\n",
       "      <td>0.25</td>\n",
       "      <td>0.000000</td>\n",
       "      <td>6</td>\n",
       "      <td>4</td>\n",
       "      <td>6</td>\n",
       "      <td>7</td>\n",
       "    </tr>\n",
       "    <tr>\n",
       "      <th>25</th>\n",
       "      <td>105</td>\n",
       "      <td>train</td>\n",
       "      <td>hous of fara 8 linear ft mdf overlap wainscot ...</td>\n",
       "      <td>100019</td>\n",
       "      <td>2.33</td>\n",
       "      <td>wainscot chair rail</td>\n",
       "      <td>the hous of fara 8 linear ft prime mdf overlap...</td>\n",
       "      <td>hous of fara</td>\n",
       "      <td>medium densiti fiberboard (mdf)</td>\n",
       "      <td>white</td>\n",
       "      <td>...</td>\n",
       "      <td>0</td>\n",
       "      <td>0</td>\n",
       "      <td>0</td>\n",
       "      <td>0.000000</td>\n",
       "      <td>0.00</td>\n",
       "      <td>0.000000</td>\n",
       "      <td>6</td>\n",
       "      <td>4</td>\n",
       "      <td>6</td>\n",
       "      <td>19</td>\n",
       "    </tr>\n",
       "    <tr>\n",
       "      <th>26</th>\n",
       "      <td>106</td>\n",
       "      <td>train</td>\n",
       "      <td>hous of fara 8 linear ft mdf overlap wainscot ...</td>\n",
       "      <td>100019</td>\n",
       "      <td>2.33</td>\n",
       "      <td>wainscot plank panel</td>\n",
       "      <td>the hous of fara 8 linear ft prime mdf overlap...</td>\n",
       "      <td>hous of fara</td>\n",
       "      <td>medium densiti fiberboard (mdf)</td>\n",
       "      <td>white</td>\n",
       "      <td>...</td>\n",
       "      <td>0</td>\n",
       "      <td>0</td>\n",
       "      <td>0</td>\n",
       "      <td>0.000000</td>\n",
       "      <td>0.00</td>\n",
       "      <td>0.000000</td>\n",
       "      <td>6</td>\n",
       "      <td>4</td>\n",
       "      <td>6</td>\n",
       "      <td>20</td>\n",
       "    </tr>\n",
       "    <tr>\n",
       "      <th>27</th>\n",
       "      <td>113</td>\n",
       "      <td>train</td>\n",
       "      <td>1804 dual spray half pattern 4in. pop up spray...</td>\n",
       "      <td>100021</td>\n",
       "      <td>2.00</td>\n",
       "      <td>lawn sprkinler</td>\n",
       "      <td>instal park backyard across the globe rain bir...</td>\n",
       "      <td>rain bird</td>\n",
       "      <td>NaN</td>\n",
       "      <td>black</td>\n",
       "      <td>...</td>\n",
       "      <td>0</td>\n",
       "      <td>0</td>\n",
       "      <td>0</td>\n",
       "      <td>0.000000</td>\n",
       "      <td>0.00</td>\n",
       "      <td>0.000000</td>\n",
       "      <td>13</td>\n",
       "      <td>2</td>\n",
       "      <td>5</td>\n",
       "      <td>14</td>\n",
       "    </tr>\n",
       "    <tr>\n",
       "      <th>28</th>\n",
       "      <td>114</td>\n",
       "      <td>train</td>\n",
       "      <td>1804 dual spray half pattern 4in. pop up spray...</td>\n",
       "      <td>100021</td>\n",
       "      <td>2.33</td>\n",
       "      <td>rainbird sprinkler</td>\n",
       "      <td>instal park backyard across the globe rain bir...</td>\n",
       "      <td>rain bird</td>\n",
       "      <td>NaN</td>\n",
       "      <td>black</td>\n",
       "      <td>...</td>\n",
       "      <td>0</td>\n",
       "      <td>0</td>\n",
       "      <td>0</td>\n",
       "      <td>0.000000</td>\n",
       "      <td>0.00</td>\n",
       "      <td>0.000000</td>\n",
       "      <td>13</td>\n",
       "      <td>2</td>\n",
       "      <td>5</td>\n",
       "      <td>18</td>\n",
       "    </tr>\n",
       "    <tr>\n",
       "      <th>29</th>\n",
       "      <td>117</td>\n",
       "      <td>train</td>\n",
       "      <td>samsung 4.2cu.ft. front load washer steam whit...</td>\n",
       "      <td>100022</td>\n",
       "      <td>2.67</td>\n",
       "      <td>platform washer</td>\n",
       "      <td>the samsung 4.2cu.ft. front load washer steam ...</td>\n",
       "      <td>samsung</td>\n",
       "      <td>stainless steel</td>\n",
       "      <td>white</td>\n",
       "      <td>...</td>\n",
       "      <td>0</td>\n",
       "      <td>0</td>\n",
       "      <td>0</td>\n",
       "      <td>0.000000</td>\n",
       "      <td>0.00</td>\n",
       "      <td>0.000000</td>\n",
       "      <td>14</td>\n",
       "      <td>8</td>\n",
       "      <td>6</td>\n",
       "      <td>15</td>\n",
       "    </tr>\n",
       "    <tr>\n",
       "      <th>...</th>\n",
       "      <td>...</td>\n",
       "      <td>...</td>\n",
       "      <td>...</td>\n",
       "      <td>...</td>\n",
       "      <td>...</td>\n",
       "      <td>...</td>\n",
       "      <td>...</td>\n",
       "      <td>...</td>\n",
       "      <td>...</td>\n",
       "      <td>...</td>\n",
       "      <td>...</td>\n",
       "      <td>...</td>\n",
       "      <td>...</td>\n",
       "      <td>...</td>\n",
       "      <td>...</td>\n",
       "      <td>...</td>\n",
       "      <td>...</td>\n",
       "      <td>...</td>\n",
       "      <td>...</td>\n",
       "      <td>...</td>\n",
       "      <td>...</td>\n",
       "    </tr>\n",
       "    <tr>\n",
       "      <th>240730</th>\n",
       "      <td>240731</td>\n",
       "      <td>test</td>\n",
       "      <td>6 panel composit bifold door</td>\n",
       "      <td>224399</td>\n",
       "      <td>NaN</td>\n",
       "      <td>bifold oak 6 panel door</td>\n",
       "      <td>give your home a custom look plantat style bi ...</td>\n",
       "      <td>home fashion technolog</td>\n",
       "      <td>vinyl</td>\n",
       "      <td>oak golden oak</td>\n",
       "      <td>...</td>\n",
       "      <td>0</td>\n",
       "      <td>0</td>\n",
       "      <td>1</td>\n",
       "      <td>0.000000</td>\n",
       "      <td>0.00</td>\n",
       "      <td>0.333333</td>\n",
       "      <td>1003</td>\n",
       "      <td>20</td>\n",
       "      <td>1766</td>\n",
       "      <td>23</td>\n",
       "    </tr>\n",
       "    <tr>\n",
       "      <th>240731</th>\n",
       "      <td>240732</td>\n",
       "      <td>test</td>\n",
       "      <td>eaton csr 200amp. doubl pole main breaker kit</td>\n",
       "      <td>224400</td>\n",
       "      <td>NaN</td>\n",
       "      <td>200amp. breaker doubl pole</td>\n",
       "      <td>the eaton csr 200amp. doubl pole main breaker ...</td>\n",
       "      <td>eaton</td>\n",
       "      <td>NaN</td>\n",
       "      <td>NaN</td>\n",
       "      <td>...</td>\n",
       "      <td>0</td>\n",
       "      <td>0</td>\n",
       "      <td>0</td>\n",
       "      <td>0.000000</td>\n",
       "      <td>0.00</td>\n",
       "      <td>0.000000</td>\n",
       "      <td>790</td>\n",
       "      <td>2</td>\n",
       "      <td>1</td>\n",
       "      <td>26</td>\n",
       "    </tr>\n",
       "    <tr>\n",
       "      <th>240732</th>\n",
       "      <td>240733</td>\n",
       "      <td>test</td>\n",
       "      <td>crown bolt 316in. zinc plate steel axl hat nut...</td>\n",
       "      <td>224401</td>\n",
       "      <td>NaN</td>\n",
       "      <td>axl lock nut</td>\n",
       "      <td>these push nut have no screw thread but have a...</td>\n",
       "      <td>crown bolt</td>\n",
       "      <td>steel</td>\n",
       "      <td>NaN</td>\n",
       "      <td>...</td>\n",
       "      <td>0</td>\n",
       "      <td>0</td>\n",
       "      <td>0</td>\n",
       "      <td>0.000000</td>\n",
       "      <td>0.00</td>\n",
       "      <td>0.000000</td>\n",
       "      <td>29</td>\n",
       "      <td>5</td>\n",
       "      <td>1</td>\n",
       "      <td>12</td>\n",
       "    </tr>\n",
       "    <tr>\n",
       "      <th>240733</th>\n",
       "      <td>240734</td>\n",
       "      <td>test</td>\n",
       "      <td>dicki 2 pocket util knife sheath</td>\n",
       "      <td>224402</td>\n",
       "      <td>NaN</td>\n",
       "      <td>sheath</td>\n",
       "      <td>the dicki util knife sheath is construct of ru...</td>\n",
       "      <td>dicki</td>\n",
       "      <td>cotton</td>\n",
       "      <td>gray graytan</td>\n",
       "      <td>...</td>\n",
       "      <td>0</td>\n",
       "      <td>0</td>\n",
       "      <td>0</td>\n",
       "      <td>0.000000</td>\n",
       "      <td>0.00</td>\n",
       "      <td>0.000000</td>\n",
       "      <td>1810</td>\n",
       "      <td>245</td>\n",
       "      <td>11486</td>\n",
       "      <td>6</td>\n",
       "    </tr>\n",
       "    <tr>\n",
       "      <th>240734</th>\n",
       "      <td>240735</td>\n",
       "      <td>test</td>\n",
       "      <td>patio live concept san juan 60in. outdoor bisq...</td>\n",
       "      <td>224403</td>\n",
       "      <td>NaN</td>\n",
       "      <td>outdoor patio shade</td>\n",
       "      <td>carefre resin durabl while ad eleg to ani outd...</td>\n",
       "      <td>patio live concept</td>\n",
       "      <td>resin</td>\n",
       "      <td>beig bisqu</td>\n",
       "      <td>...</td>\n",
       "      <td>1</td>\n",
       "      <td>0</td>\n",
       "      <td>0</td>\n",
       "      <td>0.333333</td>\n",
       "      <td>0.00</td>\n",
       "      <td>0.000000</td>\n",
       "      <td>1910</td>\n",
       "      <td>51</td>\n",
       "      <td>1259</td>\n",
       "      <td>19</td>\n",
       "    </tr>\n",
       "    <tr>\n",
       "      <th>240735</th>\n",
       "      <td>240736</td>\n",
       "      <td>test</td>\n",
       "      <td>speakman emerg eyewash safeti sign</td>\n",
       "      <td>224404</td>\n",
       "      <td>NaN</td>\n",
       "      <td>safeti sign</td>\n",
       "      <td>the speakman brand emerg eyewash safeti sign c...</td>\n",
       "      <td>speakman</td>\n",
       "      <td>plastic</td>\n",
       "      <td>green white</td>\n",
       "      <td>...</td>\n",
       "      <td>0</td>\n",
       "      <td>0</td>\n",
       "      <td>0</td>\n",
       "      <td>0.000000</td>\n",
       "      <td>0.00</td>\n",
       "      <td>0.000000</td>\n",
       "      <td>1704</td>\n",
       "      <td>3</td>\n",
       "      <td>2258</td>\n",
       "      <td>11</td>\n",
       "    </tr>\n",
       "    <tr>\n",
       "      <th>240736</th>\n",
       "      <td>240737</td>\n",
       "      <td>test</td>\n",
       "      <td>plantron cabl m 12 cs 50 cs 55 phone</td>\n",
       "      <td>224405</td>\n",
       "      <td>NaN</td>\n",
       "      <td>phone cabl</td>\n",
       "      <td>the pl 65111 01 is a plantron phone accessori ...</td>\n",
       "      <td>plantron</td>\n",
       "      <td>NaN</td>\n",
       "      <td>black</td>\n",
       "      <td>...</td>\n",
       "      <td>0</td>\n",
       "      <td>0</td>\n",
       "      <td>0</td>\n",
       "      <td>0.000000</td>\n",
       "      <td>0.00</td>\n",
       "      <td>0.000000</td>\n",
       "      <td>1938</td>\n",
       "      <td>2</td>\n",
       "      <td>5</td>\n",
       "      <td>10</td>\n",
       "    </tr>\n",
       "    <tr>\n",
       "      <th>240737</th>\n",
       "      <td>240738</td>\n",
       "      <td>test</td>\n",
       "      <td>glomar vanguard 9 light textur black chandeli ...</td>\n",
       "      <td>224406</td>\n",
       "      <td>NaN</td>\n",
       "      <td>vanguard</td>\n",
       "      <td>the 1940in. s are back a hint of today avail f...</td>\n",
       "      <td>glomar</td>\n",
       "      <td>fabric</td>\n",
       "      <td>textur black black beigebisqu</td>\n",
       "      <td>...</td>\n",
       "      <td>0</td>\n",
       "      <td>0</td>\n",
       "      <td>0</td>\n",
       "      <td>0.000000</td>\n",
       "      <td>0.00</td>\n",
       "      <td>0.000000</td>\n",
       "      <td>1095</td>\n",
       "      <td>14</td>\n",
       "      <td>11487</td>\n",
       "      <td>8</td>\n",
       "    </tr>\n",
       "    <tr>\n",
       "      <th>240738</th>\n",
       "      <td>240739</td>\n",
       "      <td>test</td>\n",
       "      <td>kwikset milan satin nickel half dummi lever</td>\n",
       "      <td>224407</td>\n",
       "      <td>NaN</td>\n",
       "      <td>dummi handl</td>\n",
       "      <td>step up to design style superior secur kwikset...</td>\n",
       "      <td>kwikset</td>\n",
       "      <td>metal</td>\n",
       "      <td>NaN</td>\n",
       "      <td>...</td>\n",
       "      <td>0</td>\n",
       "      <td>0</td>\n",
       "      <td>0</td>\n",
       "      <td>0.000000</td>\n",
       "      <td>0.00</td>\n",
       "      <td>0.000000</td>\n",
       "      <td>310</td>\n",
       "      <td>13</td>\n",
       "      <td>1</td>\n",
       "      <td>11</td>\n",
       "    </tr>\n",
       "    <tr>\n",
       "      <th>240739</th>\n",
       "      <td>240740</td>\n",
       "      <td>test</td>\n",
       "      <td>advanc drainag system 12in. 100ft. ip 125 psi ...</td>\n",
       "      <td>224408</td>\n",
       "      <td>NaN</td>\n",
       "      <td>advanc drainag system</td>\n",
       "      <td>12in. 100ft. ip 125 psi nsf poli pipe is easi ...</td>\n",
       "      <td>advanc drainag system</td>\n",
       "      <td>polyethylen</td>\n",
       "      <td>NaN</td>\n",
       "      <td>...</td>\n",
       "      <td>3</td>\n",
       "      <td>0</td>\n",
       "      <td>0</td>\n",
       "      <td>1.000000</td>\n",
       "      <td>0.00</td>\n",
       "      <td>0.000000</td>\n",
       "      <td>670</td>\n",
       "      <td>36</td>\n",
       "      <td>1</td>\n",
       "      <td>21</td>\n",
       "    </tr>\n",
       "    <tr>\n",
       "      <th>240740</th>\n",
       "      <td>240741</td>\n",
       "      <td>test</td>\n",
       "      <td>magnavox 50in. class led 1080 p 120 bmr slim hdtv</td>\n",
       "      <td>224409</td>\n",
       "      <td>NaN</td>\n",
       "      <td>led tv</td>\n",
       "      <td>enjoy optim view area the magnavox 50in. 1080 ...</td>\n",
       "      <td>magnavox</td>\n",
       "      <td>NaN</td>\n",
       "      <td>NaN</td>\n",
       "      <td>...</td>\n",
       "      <td>0</td>\n",
       "      <td>0</td>\n",
       "      <td>0</td>\n",
       "      <td>0.000000</td>\n",
       "      <td>0.00</td>\n",
       "      <td>0.000000</td>\n",
       "      <td>3034</td>\n",
       "      <td>2</td>\n",
       "      <td>1</td>\n",
       "      <td>6</td>\n",
       "    </tr>\n",
       "    <tr>\n",
       "      <th>240741</th>\n",
       "      <td>240742</td>\n",
       "      <td>test</td>\n",
       "      <td>ekena millwork 7in. 34in. 11in. hillsborough p...</td>\n",
       "      <td>224410</td>\n",
       "      <td>NaN</td>\n",
       "      <td>l mold</td>\n",
       "      <td>beauti crown mould is a great way to separ def...</td>\n",
       "      <td>ekena millwork</td>\n",
       "      <td>polyurethan</td>\n",
       "      <td>white</td>\n",
       "      <td>...</td>\n",
       "      <td>1</td>\n",
       "      <td>1</td>\n",
       "      <td>0</td>\n",
       "      <td>0.500000</td>\n",
       "      <td>1.00</td>\n",
       "      <td>0.000000</td>\n",
       "      <td>416</td>\n",
       "      <td>97</td>\n",
       "      <td>6</td>\n",
       "      <td>6</td>\n",
       "    </tr>\n",
       "    <tr>\n",
       "      <th>240742</th>\n",
       "      <td>240743</td>\n",
       "      <td>test</td>\n",
       "      <td>minwax 1gal. semi gloss polycryl protect finish</td>\n",
       "      <td>224411</td>\n",
       "      <td>NaN</td>\n",
       "      <td>minwax polycryl</td>\n",
       "      <td>minwax polycryl protect finish is a protect to...</td>\n",
       "      <td>minwax</td>\n",
       "      <td>water</td>\n",
       "      <td>NaN</td>\n",
       "      <td>...</td>\n",
       "      <td>1</td>\n",
       "      <td>0</td>\n",
       "      <td>0</td>\n",
       "      <td>1.000000</td>\n",
       "      <td>0.00</td>\n",
       "      <td>0.000000</td>\n",
       "      <td>906</td>\n",
       "      <td>117</td>\n",
       "      <td>1</td>\n",
       "      <td>15</td>\n",
       "    </tr>\n",
       "    <tr>\n",
       "      <th>240743</th>\n",
       "      <td>240744</td>\n",
       "      <td>test</td>\n",
       "      <td>southern live plant collect 3gal. pink stella ...</td>\n",
       "      <td>224412</td>\n",
       "      <td>NaN</td>\n",
       "      <td>camellia</td>\n",
       "      <td>the pink stella camellia the southern live pla...</td>\n",
       "      <td>southern live plant collect</td>\n",
       "      <td>NaN</td>\n",
       "      <td>pink</td>\n",
       "      <td>...</td>\n",
       "      <td>0</td>\n",
       "      <td>0</td>\n",
       "      <td>0</td>\n",
       "      <td>0.000000</td>\n",
       "      <td>0.00</td>\n",
       "      <td>0.000000</td>\n",
       "      <td>1241</td>\n",
       "      <td>2</td>\n",
       "      <td>626</td>\n",
       "      <td>8</td>\n",
       "    </tr>\n",
       "    <tr>\n",
       "      <th>240744</th>\n",
       "      <td>240745</td>\n",
       "      <td>test</td>\n",
       "      <td>ge 5.0cu.ft. ga rang self clean oven black</td>\n",
       "      <td>224413</td>\n",
       "      <td>NaN</td>\n",
       "      <td>black ga rang</td>\n",
       "      <td>your ge 30in. 5.0cu.ft. ga rang self clean ove...</td>\n",
       "      <td>ge</td>\n",
       "      <td>steel</td>\n",
       "      <td>black black black black</td>\n",
       "      <td>...</td>\n",
       "      <td>0</td>\n",
       "      <td>0</td>\n",
       "      <td>1</td>\n",
       "      <td>0.000000</td>\n",
       "      <td>0.00</td>\n",
       "      <td>0.250000</td>\n",
       "      <td>42</td>\n",
       "      <td>5</td>\n",
       "      <td>122</td>\n",
       "      <td>13</td>\n",
       "    </tr>\n",
       "    <tr>\n",
       "      <th>240745</th>\n",
       "      <td>240746</td>\n",
       "      <td>test</td>\n",
       "      <td>southwir 150ft. 12 3 cu wg submers pump cabl</td>\n",
       "      <td>224414</td>\n",
       "      <td>NaN</td>\n",
       "      <td>submers wire</td>\n",
       "      <td>southwir submers pump cabl is use submers pump...</td>\n",
       "      <td>southwir</td>\n",
       "      <td>copper</td>\n",
       "      <td>black</td>\n",
       "      <td>...</td>\n",
       "      <td>0</td>\n",
       "      <td>0</td>\n",
       "      <td>0</td>\n",
       "      <td>0.000000</td>\n",
       "      <td>0.00</td>\n",
       "      <td>0.000000</td>\n",
       "      <td>649</td>\n",
       "      <td>181</td>\n",
       "      <td>5</td>\n",
       "      <td>12</td>\n",
       "    </tr>\n",
       "    <tr>\n",
       "      <th>240746</th>\n",
       "      <td>240747</td>\n",
       "      <td>test</td>\n",
       "      <td>generac protector seri 15000watt. 120240volt. ...</td>\n",
       "      <td>224415</td>\n",
       "      <td>NaN</td>\n",
       "      <td>32 kw gener ac protector seri</td>\n",
       "      <td>generac new protector seri diesel gener rais t...</td>\n",
       "      <td>generac</td>\n",
       "      <td>NaN</td>\n",
       "      <td>gray</td>\n",
       "      <td>...</td>\n",
       "      <td>2</td>\n",
       "      <td>0</td>\n",
       "      <td>0</td>\n",
       "      <td>2.000000</td>\n",
       "      <td>0.00</td>\n",
       "      <td>0.000000</td>\n",
       "      <td>412</td>\n",
       "      <td>2</td>\n",
       "      <td>9</td>\n",
       "      <td>29</td>\n",
       "    </tr>\n",
       "    <tr>\n",
       "      <th>240747</th>\n",
       "      <td>240748</td>\n",
       "      <td>test</td>\n",
       "      <td>kohler clearflo brass toe tap bath drain vibra...</td>\n",
       "      <td>224416</td>\n",
       "      <td>NaN</td>\n",
       "      <td>bathroom tap</td>\n",
       "      <td>the clearflo brass toe tap bath drain work per...</td>\n",
       "      <td>kohler</td>\n",
       "      <td>brass</td>\n",
       "      <td>nickel vibrant brush nickel</td>\n",
       "      <td>...</td>\n",
       "      <td>0</td>\n",
       "      <td>0</td>\n",
       "      <td>0</td>\n",
       "      <td>0.000000</td>\n",
       "      <td>0.00</td>\n",
       "      <td>0.000000</td>\n",
       "      <td>94</td>\n",
       "      <td>62</td>\n",
       "      <td>448</td>\n",
       "      <td>12</td>\n",
       "    </tr>\n",
       "    <tr>\n",
       "      <th>240748</th>\n",
       "      <td>240749</td>\n",
       "      <td>test</td>\n",
       "      <td>casablanca 4 light maiden bronz ceil fan fixtu...</td>\n",
       "      <td>224417</td>\n",
       "      <td>NaN</td>\n",
       "      <td>ceil fan light fixtur</td>\n",
       "      <td>the light kit casablanca is a great design sur...</td>\n",
       "      <td>casablanca</td>\n",
       "      <td>NaN</td>\n",
       "      <td>bronz maiden bronz</td>\n",
       "      <td>...</td>\n",
       "      <td>0</td>\n",
       "      <td>0</td>\n",
       "      <td>0</td>\n",
       "      <td>0.000000</td>\n",
       "      <td>0.00</td>\n",
       "      <td>0.000000</td>\n",
       "      <td>2234</td>\n",
       "      <td>2</td>\n",
       "      <td>11488</td>\n",
       "      <td>21</td>\n",
       "    </tr>\n",
       "    <tr>\n",
       "      <th>240749</th>\n",
       "      <td>240750</td>\n",
       "      <td>test</td>\n",
       "      <td>glidden premium 5gal. #hdgr 19 fresh peoni sat...</td>\n",
       "      <td>224418</td>\n",
       "      <td>NaN</td>\n",
       "      <td>peoni</td>\n",
       "      <td>the glidden premium 5gal. satin latex exterior...</td>\n",
       "      <td>NaN</td>\n",
       "      <td>NaN</td>\n",
       "      <td>NaN</td>\n",
       "      <td>...</td>\n",
       "      <td>0</td>\n",
       "      <td>0</td>\n",
       "      <td>0</td>\n",
       "      <td>0.000000</td>\n",
       "      <td>0.00</td>\n",
       "      <td>0.000000</td>\n",
       "      <td>65</td>\n",
       "      <td>2</td>\n",
       "      <td>1</td>\n",
       "      <td>5</td>\n",
       "    </tr>\n",
       "    <tr>\n",
       "      <th>240750</th>\n",
       "      <td>240751</td>\n",
       "      <td>test</td>\n",
       "      <td>everbilt 18in. 50ft. reflect black paracord</td>\n",
       "      <td>224419</td>\n",
       "      <td>NaN</td>\n",
       "      <td>paracord</td>\n",
       "      <td>paracord is ideal camp hike other outdoor acti...</td>\n",
       "      <td>everbilt</td>\n",
       "      <td>polypropylen</td>\n",
       "      <td>black</td>\n",
       "      <td>...</td>\n",
       "      <td>0</td>\n",
       "      <td>0</td>\n",
       "      <td>0</td>\n",
       "      <td>0.000000</td>\n",
       "      <td>0.00</td>\n",
       "      <td>0.000000</td>\n",
       "      <td>87</td>\n",
       "      <td>79</td>\n",
       "      <td>5</td>\n",
       "      <td>8</td>\n",
       "    </tr>\n",
       "    <tr>\n",
       "      <th>240751</th>\n",
       "      <td>240752</td>\n",
       "      <td>test</td>\n",
       "      <td>crown bolt 516in. (14in. 20) 1 12in. alloy sho...</td>\n",
       "      <td>224420</td>\n",
       "      <td>NaN</td>\n",
       "      <td>2in. 14 20 bolt</td>\n",
       "      <td>crown bolt' shoulder bolt are also known as st...</td>\n",
       "      <td>crown bolt</td>\n",
       "      <td>NaN</td>\n",
       "      <td>metal</td>\n",
       "      <td>...</td>\n",
       "      <td>1</td>\n",
       "      <td>0</td>\n",
       "      <td>0</td>\n",
       "      <td>0.500000</td>\n",
       "      <td>0.00</td>\n",
       "      <td>0.000000</td>\n",
       "      <td>29</td>\n",
       "      <td>2</td>\n",
       "      <td>45</td>\n",
       "      <td>15</td>\n",
       "    </tr>\n",
       "    <tr>\n",
       "      <th>240752</th>\n",
       "      <td>240753</td>\n",
       "      <td>test</td>\n",
       "      <td>univers tub 4.5ft. right drain wheel chair acc...</td>\n",
       "      <td>224421</td>\n",
       "      <td>NaN</td>\n",
       "      <td>bath chair</td>\n",
       "      <td>wheel chair accessible' provid a safe independ...</td>\n",
       "      <td>univers tub</td>\n",
       "      <td>fiberglass</td>\n",
       "      <td>white</td>\n",
       "      <td>...</td>\n",
       "      <td>0</td>\n",
       "      <td>0</td>\n",
       "      <td>0</td>\n",
       "      <td>0.000000</td>\n",
       "      <td>0.00</td>\n",
       "      <td>0.000000</td>\n",
       "      <td>1612</td>\n",
       "      <td>38</td>\n",
       "      <td>6</td>\n",
       "      <td>10</td>\n",
       "    </tr>\n",
       "    <tr>\n",
       "      <th>240753</th>\n",
       "      <td>240754</td>\n",
       "      <td>test</td>\n",
       "      <td>everbilt #12 1 12in. phillip brass flat head w...</td>\n",
       "      <td>224422</td>\n",
       "      <td>NaN</td>\n",
       "      <td>12 brass</td>\n",
       "      <td>these wood screw are thread form screw larger ...</td>\n",
       "      <td>everbilt</td>\n",
       "      <td>solid brass</td>\n",
       "      <td>NaN</td>\n",
       "      <td>...</td>\n",
       "      <td>0</td>\n",
       "      <td>1</td>\n",
       "      <td>0</td>\n",
       "      <td>0.000000</td>\n",
       "      <td>0.50</td>\n",
       "      <td>0.000000</td>\n",
       "      <td>87</td>\n",
       "      <td>84</td>\n",
       "      <td>1</td>\n",
       "      <td>8</td>\n",
       "    </tr>\n",
       "    <tr>\n",
       "      <th>240754</th>\n",
       "      <td>240755</td>\n",
       "      <td>test</td>\n",
       "      <td>coastal shower door legend seri 24in. 64in. fr...</td>\n",
       "      <td>224423</td>\n",
       "      <td>NaN</td>\n",
       "      <td>pivot shower door</td>\n",
       "      <td>the legend seri frame swing stand alon continu...</td>\n",
       "      <td>coastal shower door</td>\n",
       "      <td>NaN</td>\n",
       "      <td>NaN</td>\n",
       "      <td>...</td>\n",
       "      <td>2</td>\n",
       "      <td>0</td>\n",
       "      <td>0</td>\n",
       "      <td>0.666667</td>\n",
       "      <td>0.00</td>\n",
       "      <td>0.000000</td>\n",
       "      <td>1006</td>\n",
       "      <td>2</td>\n",
       "      <td>1</td>\n",
       "      <td>17</td>\n",
       "    </tr>\n",
       "    <tr>\n",
       "      <th>240755</th>\n",
       "      <td>240756</td>\n",
       "      <td>test</td>\n",
       "      <td>stufurhom norma 24in. w 16in. d 34in. h linen ...</td>\n",
       "      <td>224424</td>\n",
       "      <td>NaN</td>\n",
       "      <td>24 whtie storag cabinet</td>\n",
       "      <td>creat a neat yet stylish storag space organ ba...</td>\n",
       "      <td>stufurhom</td>\n",
       "      <td>NaN</td>\n",
       "      <td>white</td>\n",
       "      <td>...</td>\n",
       "      <td>0</td>\n",
       "      <td>0</td>\n",
       "      <td>0</td>\n",
       "      <td>0.000000</td>\n",
       "      <td>0.00</td>\n",
       "      <td>0.000000</td>\n",
       "      <td>1950</td>\n",
       "      <td>2</td>\n",
       "      <td>6</td>\n",
       "      <td>23</td>\n",
       "    </tr>\n",
       "    <tr>\n",
       "      <th>240756</th>\n",
       "      <td>240757</td>\n",
       "      <td>test</td>\n",
       "      <td>home decor collect 49in. d alessandro spiceber...</td>\n",
       "      <td>224425</td>\n",
       "      <td>NaN</td>\n",
       "      <td>adirondeck cusion</td>\n",
       "      <td>our bullnos adirondack chair cushion fit adiro...</td>\n",
       "      <td>home decor collect</td>\n",
       "      <td>polyest</td>\n",
       "      <td>alessandro spiceberri</td>\n",
       "      <td>...</td>\n",
       "      <td>0</td>\n",
       "      <td>0</td>\n",
       "      <td>0</td>\n",
       "      <td>0.000000</td>\n",
       "      <td>0.00</td>\n",
       "      <td>0.000000</td>\n",
       "      <td>71</td>\n",
       "      <td>83</td>\n",
       "      <td>11489</td>\n",
       "      <td>17</td>\n",
       "    </tr>\n",
       "    <tr>\n",
       "      <th>240757</th>\n",
       "      <td>240758</td>\n",
       "      <td>test</td>\n",
       "      <td>simpson strong tie hb 3 12 14in. top flang i j...</td>\n",
       "      <td>224426</td>\n",
       "      <td>NaN</td>\n",
       "      <td>hb</td>\n",
       "      <td>joist hanger are design to provid support unde...</td>\n",
       "      <td>NaN</td>\n",
       "      <td>NaN</td>\n",
       "      <td>NaN</td>\n",
       "      <td>...</td>\n",
       "      <td>0</td>\n",
       "      <td>0</td>\n",
       "      <td>0</td>\n",
       "      <td>0.000000</td>\n",
       "      <td>0.00</td>\n",
       "      <td>0.000000</td>\n",
       "      <td>65</td>\n",
       "      <td>2</td>\n",
       "      <td>1</td>\n",
       "      <td>2</td>\n",
       "    </tr>\n",
       "    <tr>\n",
       "      <th>240758</th>\n",
       "      <td>240759</td>\n",
       "      <td>test</td>\n",
       "      <td>14in.  20 tpi 1 12in. stainless steel button h...</td>\n",
       "      <td>224427</td>\n",
       "      <td>NaN</td>\n",
       "      <td>hex socket</td>\n",
       "      <td>these socket cap screw are ideal applic requir...</td>\n",
       "      <td>NaN</td>\n",
       "      <td>NaN</td>\n",
       "      <td>NaN</td>\n",
       "      <td>...</td>\n",
       "      <td>0</td>\n",
       "      <td>0</td>\n",
       "      <td>0</td>\n",
       "      <td>0.000000</td>\n",
       "      <td>0.00</td>\n",
       "      <td>0.000000</td>\n",
       "      <td>65</td>\n",
       "      <td>2</td>\n",
       "      <td>1</td>\n",
       "      <td>10</td>\n",
       "    </tr>\n",
       "    <tr>\n",
       "      <th>240759</th>\n",
       "      <td>240760</td>\n",
       "      <td>test</td>\n",
       "      <td>bosch 4in. bi metal hole saw</td>\n",
       "      <td>224428</td>\n",
       "      <td>NaN</td>\n",
       "      <td>4in. hole saw</td>\n",
       "      <td>the bosch quick chang bi metal hole saw featur...</td>\n",
       "      <td>bosch</td>\n",
       "      <td>bi metal multi purpos</td>\n",
       "      <td>blue</td>\n",
       "      <td>...</td>\n",
       "      <td>0</td>\n",
       "      <td>0</td>\n",
       "      <td>0</td>\n",
       "      <td>0.000000</td>\n",
       "      <td>0.00</td>\n",
       "      <td>0.000000</td>\n",
       "      <td>241</td>\n",
       "      <td>87</td>\n",
       "      <td>27</td>\n",
       "      <td>13</td>\n",
       "    </tr>\n",
       "  </tbody>\n",
       "</table>\n",
       "<p>240760 rows × 36 columns</p>\n",
       "</div>"
      ],
      "text/plain": [
       "            id  label                                      product_title  \\\n",
       "0            2  train                    simpson strong tie 12 gaug angl   \n",
       "1            3  train                    simpson strong tie 12 gaug angl   \n",
       "2            9  train  behr premium textur deckov 1gal. #sc 141 tugbo...   \n",
       "3           16  train  delta vero 1 handl shower onli faucet trim kit...   \n",
       "4           17  train  delta vero 1 handl shower onli faucet trim kit...   \n",
       "5           18  train  whirlpool 1.9cu.ft. over the rang convect micr...   \n",
       "6           20  train  whirlpool 1.9cu.ft. over the rang convect micr...   \n",
       "7           21  train  whirlpool 1.9cu.ft. over the rang convect micr...   \n",
       "8           23  train  lithonia light quantum 2 light black led emerg...   \n",
       "9           27  train        hous of fara 34in. 3in. 8ft. mdf flute case   \n",
       "10          34  train          valley view industri metal stake (4 pack)   \n",
       "11          35  train  toro person pace recycl 22in. variabl speed se...   \n",
       "12          37  train  toro person pace recycl 22in. variabl speed se...   \n",
       "13          38  train  toro person pace recycl 22in. variabl speed se...   \n",
       "14          48  train  hampton bay caramel simpl weav bamboo rollup s...   \n",
       "15          51  train  insinker sinktop switch singl outlet insinker ...   \n",
       "16          65  train  sunjoy calai 8ft. 5ft. 8ft. steel tile fabric ...   \n",
       "17          69  train  md build product 36in. 36in. cloverleaf alumin...   \n",
       "18          75  train  md build product 36in. 36in. cloverleaf alumin...   \n",
       "19          81  train  md build product 36in. 36in. cloverleaf alumin...   \n",
       "20          85  train  md build product 36in. 36in. cloverleaf alumin...   \n",
       "21          88  train  hous of fara 8 linear ft mdf overlap wainscot ...   \n",
       "22          90  train  hous of fara 8 linear ft mdf overlap wainscot ...   \n",
       "23          92  train  hous of fara 8 linear ft mdf overlap wainscot ...   \n",
       "24         101  train  hous of fara 8 linear ft mdf overlap wainscot ...   \n",
       "25         105  train  hous of fara 8 linear ft mdf overlap wainscot ...   \n",
       "26         106  train  hous of fara 8 linear ft mdf overlap wainscot ...   \n",
       "27         113  train  1804 dual spray half pattern 4in. pop up spray...   \n",
       "28         114  train  1804 dual spray half pattern 4in. pop up spray...   \n",
       "29         117  train  samsung 4.2cu.ft. front load washer steam whit...   \n",
       "...        ...    ...                                                ...   \n",
       "240730  240731   test                       6 panel composit bifold door   \n",
       "240731  240732   test      eaton csr 200amp. doubl pole main breaker kit   \n",
       "240732  240733   test  crown bolt 316in. zinc plate steel axl hat nut...   \n",
       "240733  240734   test                   dicki 2 pocket util knife sheath   \n",
       "240734  240735   test  patio live concept san juan 60in. outdoor bisq...   \n",
       "240735  240736   test                 speakman emerg eyewash safeti sign   \n",
       "240736  240737   test               plantron cabl m 12 cs 50 cs 55 phone   \n",
       "240737  240738   test  glomar vanguard 9 light textur black chandeli ...   \n",
       "240738  240739   test        kwikset milan satin nickel half dummi lever   \n",
       "240739  240740   test  advanc drainag system 12in. 100ft. ip 125 psi ...   \n",
       "240740  240741   test  magnavox 50in. class led 1080 p 120 bmr slim hdtv   \n",
       "240741  240742   test  ekena millwork 7in. 34in. 11in. hillsborough p...   \n",
       "240742  240743   test    minwax 1gal. semi gloss polycryl protect finish   \n",
       "240743  240744   test  southern live plant collect 3gal. pink stella ...   \n",
       "240744  240745   test         ge 5.0cu.ft. ga rang self clean oven black   \n",
       "240745  240746   test       southwir 150ft. 12 3 cu wg submers pump cabl   \n",
       "240746  240747   test  generac protector seri 15000watt. 120240volt. ...   \n",
       "240747  240748   test  kohler clearflo brass toe tap bath drain vibra...   \n",
       "240748  240749   test  casablanca 4 light maiden bronz ceil fan fixtu...   \n",
       "240749  240750   test  glidden premium 5gal. #hdgr 19 fresh peoni sat...   \n",
       "240750  240751   test        everbilt 18in. 50ft. reflect black paracord   \n",
       "240751  240752   test  crown bolt 516in. (14in. 20) 1 12in. alloy sho...   \n",
       "240752  240753   test  univers tub 4.5ft. right drain wheel chair acc...   \n",
       "240753  240754   test  everbilt #12 1 12in. phillip brass flat head w...   \n",
       "240754  240755   test  coastal shower door legend seri 24in. 64in. fr...   \n",
       "240755  240756   test  stufurhom norma 24in. w 16in. d 34in. h linen ...   \n",
       "240756  240757   test  home decor collect 49in. d alessandro spiceber...   \n",
       "240757  240758   test  simpson strong tie hb 3 12 14in. top flang i j...   \n",
       "240758  240759   test  14in.  20 tpi 1 12in. stainless steel button h...   \n",
       "240759  240760   test                       bosch 4in. bi metal hole saw   \n",
       "\n",
       "        product_uid  relevance                         search_term  \\\n",
       "0            100001       3.00                        angl bracket   \n",
       "1            100001       2.50                           l bracket   \n",
       "2            100002       3.00                           deck over   \n",
       "3            100005       2.33                    rain shower head   \n",
       "4            100005       2.67                  shower onli faucet   \n",
       "5            100006       3.00                         convect otr   \n",
       "6            100006       2.67                 microwav over stove   \n",
       "7            100006       3.00                            microwav   \n",
       "8            100007       2.67                         emerg light   \n",
       "9            100009       3.00                              mdf 34   \n",
       "10           100010       2.67                         steel stake   \n",
       "11           100011       3.00           brigg stratton lawn mower   \n",
       "12           100011       3.00                              ga mow   \n",
       "13           100011       2.00                         honda mower   \n",
       "14           100012       2.67  hampton bay chestnut pull up shade   \n",
       "15           100013       2.67                              dispos   \n",
       "16           100016       3.00                        grill gazebo   \n",
       "17           100017       1.00                          door guard   \n",
       "18           100017       1.67              metal plate cover gcfi   \n",
       "19           100017       2.33                        radiat grate   \n",
       "20           100017       2.33                       window screen   \n",
       "21           100019       1.33                 1 1 rail decor wood   \n",
       "22           100019       2.67                 4 8 beadboard panel   \n",
       "23           100019       2.33                      4 8 wood panel   \n",
       "24           100019       1.33                             mdf 4 8   \n",
       "25           100019       2.33                 wainscot chair rail   \n",
       "26           100019       2.33                wainscot plank panel   \n",
       "27           100021       2.00                      lawn sprkinler   \n",
       "28           100021       2.33                  rainbird sprinkler   \n",
       "29           100022       2.67                     platform washer   \n",
       "...             ...        ...                                 ...   \n",
       "240730       224399        NaN             bifold oak 6 panel door   \n",
       "240731       224400        NaN          200amp. breaker doubl pole   \n",
       "240732       224401        NaN                        axl lock nut   \n",
       "240733       224402        NaN                              sheath   \n",
       "240734       224403        NaN                 outdoor patio shade   \n",
       "240735       224404        NaN                         safeti sign   \n",
       "240736       224405        NaN                          phone cabl   \n",
       "240737       224406        NaN                            vanguard   \n",
       "240738       224407        NaN                         dummi handl   \n",
       "240739       224408        NaN               advanc drainag system   \n",
       "240740       224409        NaN                              led tv   \n",
       "240741       224410        NaN                              l mold   \n",
       "240742       224411        NaN                     minwax polycryl   \n",
       "240743       224412        NaN                            camellia   \n",
       "240744       224413        NaN                       black ga rang   \n",
       "240745       224414        NaN                        submers wire   \n",
       "240746       224415        NaN       32 kw gener ac protector seri   \n",
       "240747       224416        NaN                        bathroom tap   \n",
       "240748       224417        NaN               ceil fan light fixtur   \n",
       "240749       224418        NaN                               peoni   \n",
       "240750       224419        NaN                            paracord   \n",
       "240751       224420        NaN                     2in. 14 20 bolt   \n",
       "240752       224421        NaN                          bath chair   \n",
       "240753       224422        NaN                            12 brass   \n",
       "240754       224423        NaN                   pivot shower door   \n",
       "240755       224424        NaN             24 whtie storag cabinet   \n",
       "240756       224425        NaN                   adirondeck cusion   \n",
       "240757       224426        NaN                                  hb   \n",
       "240758       224427        NaN                          hex socket   \n",
       "240759       224428        NaN                       4in. hole saw   \n",
       "\n",
       "                                      product_description  \\\n",
       "0       not onli do angl make joint stronger they also...   \n",
       "1       not onli do angl make joint stronger they also...   \n",
       "2       behr premium textur deckov is an innov solid c...   \n",
       "3       updat your bathroom the delta vero singl handl...   \n",
       "4       updat your bathroom the delta vero singl handl...   \n",
       "5       achiev delici result is almost effortless thi ...   \n",
       "6       achiev delici result is almost effortless thi ...   \n",
       "7       achiev delici result is almost effortless thi ...   \n",
       "8       the quantum adjust 2 light led black emerg lig...   \n",
       "9       get the hous of fara 34in. 3in. 8ft. mdf flute...   \n",
       "10      valley view industri metal stake (4 pack) are ...   \n",
       "11      recycl 22in. person pace variabl speed self pr...   \n",
       "12      recycl 22in. person pace variabl speed self pr...   \n",
       "13      recycl 22in. person pace variabl speed self pr...   \n",
       "14      the 96in. wide caramel simpl weav rollup bambo...   \n",
       "15      the insinker sinktop switch singl outlet insin...   \n",
       "16      make grill great thi handsom function grill ga...   \n",
       "17      the md build product 36in. 36in. 150in. alumin...   \n",
       "18      the md build product 36in. 36in. 150in. alumin...   \n",
       "19      the md build product 36in. 36in. 150in. alumin...   \n",
       "20      the md build product 36in. 36in. 150in. alumin...   \n",
       "21      the hous of fara 8 linear ft prime mdf overlap...   \n",
       "22      the hous of fara 8 linear ft prime mdf overlap...   \n",
       "23      the hous of fara 8 linear ft prime mdf overlap...   \n",
       "24      the hous of fara 8 linear ft prime mdf overlap...   \n",
       "25      the hous of fara 8 linear ft prime mdf overlap...   \n",
       "26      the hous of fara 8 linear ft prime mdf overlap...   \n",
       "27      instal park backyard across the globe rain bir...   \n",
       "28      instal park backyard across the globe rain bir...   \n",
       "29      the samsung 4.2cu.ft. front load washer steam ...   \n",
       "...                                                   ...   \n",
       "240730  give your home a custom look plantat style bi ...   \n",
       "240731  the eaton csr 200amp. doubl pole main breaker ...   \n",
       "240732  these push nut have no screw thread but have a...   \n",
       "240733  the dicki util knife sheath is construct of ru...   \n",
       "240734  carefre resin durabl while ad eleg to ani outd...   \n",
       "240735  the speakman brand emerg eyewash safeti sign c...   \n",
       "240736  the pl 65111 01 is a plantron phone accessori ...   \n",
       "240737  the 1940in. s are back a hint of today avail f...   \n",
       "240738  step up to design style superior secur kwikset...   \n",
       "240739  12in. 100ft. ip 125 psi nsf poli pipe is easi ...   \n",
       "240740  enjoy optim view area the magnavox 50in. 1080 ...   \n",
       "240741  beauti crown mould is a great way to separ def...   \n",
       "240742  minwax polycryl protect finish is a protect to...   \n",
       "240743  the pink stella camellia the southern live pla...   \n",
       "240744  your ge 30in. 5.0cu.ft. ga rang self clean ove...   \n",
       "240745  southwir submers pump cabl is use submers pump...   \n",
       "240746  generac new protector seri diesel gener rais t...   \n",
       "240747  the clearflo brass toe tap bath drain work per...   \n",
       "240748  the light kit casablanca is a great design sur...   \n",
       "240749  the glidden premium 5gal. satin latex exterior...   \n",
       "240750  paracord is ideal camp hike other outdoor acti...   \n",
       "240751  crown bolt' shoulder bolt are also known as st...   \n",
       "240752  wheel chair accessible' provid a safe independ...   \n",
       "240753  these wood screw are thread form screw larger ...   \n",
       "240754  the legend seri frame swing stand alon continu...   \n",
       "240755  creat a neat yet stylish storag space organ ba...   \n",
       "240756  our bullnos adirondack chair cushion fit adiro...   \n",
       "240757  joist hanger are design to provid support unde...   \n",
       "240758  these socket cap screw are ideal applic requir...   \n",
       "240759  the bosch quick chang bi metal hole saw featur...   \n",
       "\n",
       "                              brand                         material  \\\n",
       "0                simpson strong tie                     galvan steel   \n",
       "1                simpson strong tie                     galvan steel   \n",
       "2        behr premium textur deckov                              NaN   \n",
       "3                             delta                              NaN   \n",
       "4                             delta                              NaN   \n",
       "5                         whirlpool                              NaN   \n",
       "6                         whirlpool                              NaN   \n",
       "7                         whirlpool                              NaN   \n",
       "8                    lithonia light                          plastic   \n",
       "9                      hous of fara  medium densiti fiberboard (mdf)   \n",
       "10             valley view industri                            steel   \n",
       "11                             toro                              NaN   \n",
       "12                             toro                              NaN   \n",
       "13                             toro                              NaN   \n",
       "14                      hampton bay                           bamboo   \n",
       "15                         insinker                              NaN   \n",
       "16                           sunjoy                            steel   \n",
       "17                 md build product                         aluminum   \n",
       "18                 md build product                         aluminum   \n",
       "19                 md build product                         aluminum   \n",
       "20                 md build product                         aluminum   \n",
       "21                     hous of fara  medium densiti fiberboard (mdf)   \n",
       "22                     hous of fara  medium densiti fiberboard (mdf)   \n",
       "23                     hous of fara  medium densiti fiberboard (mdf)   \n",
       "24                     hous of fara  medium densiti fiberboard (mdf)   \n",
       "25                     hous of fara  medium densiti fiberboard (mdf)   \n",
       "26                     hous of fara  medium densiti fiberboard (mdf)   \n",
       "27                        rain bird                              NaN   \n",
       "28                        rain bird                              NaN   \n",
       "29                          samsung                  stainless steel   \n",
       "...                             ...                              ...   \n",
       "240730       home fashion technolog                            vinyl   \n",
       "240731                        eaton                              NaN   \n",
       "240732                   crown bolt                            steel   \n",
       "240733                        dicki                           cotton   \n",
       "240734           patio live concept                            resin   \n",
       "240735                     speakman                          plastic   \n",
       "240736                     plantron                              NaN   \n",
       "240737                       glomar                           fabric   \n",
       "240738                      kwikset                            metal   \n",
       "240739        advanc drainag system                      polyethylen   \n",
       "240740                     magnavox                              NaN   \n",
       "240741               ekena millwork                      polyurethan   \n",
       "240742                       minwax                            water   \n",
       "240743  southern live plant collect                              NaN   \n",
       "240744                           ge                            steel   \n",
       "240745                     southwir                           copper   \n",
       "240746                      generac                              NaN   \n",
       "240747                       kohler                            brass   \n",
       "240748                   casablanca                              NaN   \n",
       "240749                          NaN                              NaN   \n",
       "240750                     everbilt                     polypropylen   \n",
       "240751                   crown bolt                              NaN   \n",
       "240752                  univers tub                       fiberglass   \n",
       "240753                     everbilt                      solid brass   \n",
       "240754          coastal shower door                              NaN   \n",
       "240755                    stufurhom                              NaN   \n",
       "240756           home decor collect                          polyest   \n",
       "240757                          NaN                              NaN   \n",
       "240758                          NaN                              NaN   \n",
       "240759                        bosch            bi metal multi purpos   \n",
       "\n",
       "                                  color         ...          word_in_brand  \\\n",
       "0                                   NaN         ...                      0   \n",
       "1                                   NaN         ...                      0   \n",
       "2                     brown tan tugboat         ...                      1   \n",
       "3                                chrome         ...                      0   \n",
       "4                                chrome         ...                      0   \n",
       "5             stainless steel stainless         ...                      0   \n",
       "6             stainless steel stainless         ...                      0   \n",
       "7             stainless steel stainless         ...                      0   \n",
       "8                                 black         ...                      1   \n",
       "9                                 white         ...                      0   \n",
       "10                     metal silvergray         ...                      0   \n",
       "11                                  NaN         ...                      0   \n",
       "12                                  NaN         ...                      0   \n",
       "13                                  NaN         ...                      0   \n",
       "14      tan caramel brownstan fruitwood         ...                      2   \n",
       "15                                black         ...                      0   \n",
       "16                                black         ...                      0   \n",
       "17                                  NaN         ...                      0   \n",
       "18                                  NaN         ...                      0   \n",
       "19                                  NaN         ...                      0   \n",
       "20                                  NaN         ...                      0   \n",
       "21                                white         ...                      0   \n",
       "22                                white         ...                      0   \n",
       "23                                white         ...                      0   \n",
       "24                                white         ...                      0   \n",
       "25                                white         ...                      0   \n",
       "26                                white         ...                      0   \n",
       "27                                black         ...                      0   \n",
       "28                                black         ...                      0   \n",
       "29                                white         ...                      0   \n",
       "...                                 ...         ...                    ...   \n",
       "240730                   oak golden oak         ...                      0   \n",
       "240731                              NaN         ...                      0   \n",
       "240732                              NaN         ...                      0   \n",
       "240733                     gray graytan         ...                      0   \n",
       "240734                       beig bisqu         ...                      1   \n",
       "240735                      green white         ...                      0   \n",
       "240736                            black         ...                      0   \n",
       "240737    textur black black beigebisqu         ...                      0   \n",
       "240738                              NaN         ...                      0   \n",
       "240739                              NaN         ...                      3   \n",
       "240740                              NaN         ...                      0   \n",
       "240741                            white         ...                      1   \n",
       "240742                              NaN         ...                      1   \n",
       "240743                             pink         ...                      0   \n",
       "240744          black black black black         ...                      0   \n",
       "240745                            black         ...                      0   \n",
       "240746                             gray         ...                      2   \n",
       "240747      nickel vibrant brush nickel         ...                      0   \n",
       "240748               bronz maiden bronz         ...                      0   \n",
       "240749                              NaN         ...                      0   \n",
       "240750                            black         ...                      0   \n",
       "240751                            metal         ...                      1   \n",
       "240752                            white         ...                      0   \n",
       "240753                              NaN         ...                      0   \n",
       "240754                              NaN         ...                      2   \n",
       "240755                            white         ...                      0   \n",
       "240756            alessandro spiceberri         ...                      0   \n",
       "240757                              NaN         ...                      0   \n",
       "240758                              NaN         ...                      0   \n",
       "240759                             blue         ...                      0   \n",
       "\n",
       "        word_in_material  word_in_color  ratio_brand  ratio_material  \\\n",
       "0                      0              0     0.000000            0.00   \n",
       "1                      1              0     0.000000            0.50   \n",
       "2                      0              0     0.250000            0.00   \n",
       "3                      0              0     0.000000            0.00   \n",
       "4                      0              0     0.000000            0.00   \n",
       "5                      0              0     0.000000            0.00   \n",
       "6                      0              0     0.000000            0.00   \n",
       "7                      0              0     0.000000            0.00   \n",
       "8                      0              0     0.500000            0.00   \n",
       "9                      1              0     0.000000            0.25   \n",
       "10                     1              0     0.000000            1.00   \n",
       "11                     0              0     0.000000            0.00   \n",
       "12                     0              0     0.000000            0.00   \n",
       "13                     0              0     0.000000            0.00   \n",
       "14                     0              0     1.000000            0.00   \n",
       "15                     0              0     0.000000            0.00   \n",
       "16                     0              0     0.000000            0.00   \n",
       "17                     0              0     0.000000            0.00   \n",
       "18                     0              0     0.000000            0.00   \n",
       "19                     0              0     0.000000            0.00   \n",
       "20                     0              0     0.000000            0.00   \n",
       "21                     0              0     0.000000            0.00   \n",
       "22                     0              0     0.000000            0.00   \n",
       "23                     0              0     0.000000            0.00   \n",
       "24                     1              0     0.000000            0.25   \n",
       "25                     0              0     0.000000            0.00   \n",
       "26                     0              0     0.000000            0.00   \n",
       "27                     0              0     0.000000            0.00   \n",
       "28                     0              0     0.000000            0.00   \n",
       "29                     0              0     0.000000            0.00   \n",
       "...                  ...            ...          ...             ...   \n",
       "240730                 0              1     0.000000            0.00   \n",
       "240731                 0              0     0.000000            0.00   \n",
       "240732                 0              0     0.000000            0.00   \n",
       "240733                 0              0     0.000000            0.00   \n",
       "240734                 0              0     0.333333            0.00   \n",
       "240735                 0              0     0.000000            0.00   \n",
       "240736                 0              0     0.000000            0.00   \n",
       "240737                 0              0     0.000000            0.00   \n",
       "240738                 0              0     0.000000            0.00   \n",
       "240739                 0              0     1.000000            0.00   \n",
       "240740                 0              0     0.000000            0.00   \n",
       "240741                 1              0     0.500000            1.00   \n",
       "240742                 0              0     1.000000            0.00   \n",
       "240743                 0              0     0.000000            0.00   \n",
       "240744                 0              1     0.000000            0.00   \n",
       "240745                 0              0     0.000000            0.00   \n",
       "240746                 0              0     2.000000            0.00   \n",
       "240747                 0              0     0.000000            0.00   \n",
       "240748                 0              0     0.000000            0.00   \n",
       "240749                 0              0     0.000000            0.00   \n",
       "240750                 0              0     0.000000            0.00   \n",
       "240751                 0              0     0.500000            0.00   \n",
       "240752                 0              0     0.000000            0.00   \n",
       "240753                 1              0     0.000000            0.50   \n",
       "240754                 0              0     0.666667            0.00   \n",
       "240755                 0              0     0.000000            0.00   \n",
       "240756                 0              0     0.000000            0.00   \n",
       "240757                 0              0     0.000000            0.00   \n",
       "240758                 0              0     0.000000            0.00   \n",
       "240759                 0              0     0.000000            0.00   \n",
       "\n",
       "        ratio_color  brand_feature  material_feature  color_feature  \\\n",
       "0          0.000000              1                 1              1   \n",
       "1          0.000000              1                 1              1   \n",
       "2          0.000000              2                 2              2   \n",
       "3          0.000000              3                 2              3   \n",
       "4          0.000000              3                 2              3   \n",
       "5          0.000000              4                 2              4   \n",
       "6          0.000000              4                 2              4   \n",
       "7          0.000000              4                 2              4   \n",
       "8          0.000000              5                 3              5   \n",
       "9          0.000000              6                 4              6   \n",
       "10         0.000000              7                 5              7   \n",
       "11         0.000000              8                 2              1   \n",
       "12         0.000000              8                 2              1   \n",
       "13         0.000000              8                 2              1   \n",
       "14         0.000000              9                 6              8   \n",
       "15         0.000000             10                 2              5   \n",
       "16         0.000000             11                 5              5   \n",
       "17         0.000000             12                 7              1   \n",
       "18         0.000000             12                 7              1   \n",
       "19         0.000000             12                 7              1   \n",
       "20         0.000000             12                 7              1   \n",
       "21         0.000000              6                 4              6   \n",
       "22         0.000000              6                 4              6   \n",
       "23         0.000000              6                 4              6   \n",
       "24         0.000000              6                 4              6   \n",
       "25         0.000000              6                 4              6   \n",
       "26         0.000000              6                 4              6   \n",
       "27         0.000000             13                 2              5   \n",
       "28         0.000000             13                 2              5   \n",
       "29         0.000000             14                 8              6   \n",
       "...             ...            ...               ...            ...   \n",
       "240730     0.333333           1003                20           1766   \n",
       "240731     0.000000            790                 2              1   \n",
       "240732     0.000000             29                 5              1   \n",
       "240733     0.000000           1810               245          11486   \n",
       "240734     0.000000           1910                51           1259   \n",
       "240735     0.000000           1704                 3           2258   \n",
       "240736     0.000000           1938                 2              5   \n",
       "240737     0.000000           1095                14          11487   \n",
       "240738     0.000000            310                13              1   \n",
       "240739     0.000000            670                36              1   \n",
       "240740     0.000000           3034                 2              1   \n",
       "240741     0.000000            416                97              6   \n",
       "240742     0.000000            906               117              1   \n",
       "240743     0.000000           1241                 2            626   \n",
       "240744     0.250000             42                 5            122   \n",
       "240745     0.000000            649               181              5   \n",
       "240746     0.000000            412                 2              9   \n",
       "240747     0.000000             94                62            448   \n",
       "240748     0.000000           2234                 2          11488   \n",
       "240749     0.000000             65                 2              1   \n",
       "240750     0.000000             87                79              5   \n",
       "240751     0.000000             29                 2             45   \n",
       "240752     0.000000           1612                38              6   \n",
       "240753     0.000000             87                84              1   \n",
       "240754     0.000000           1006                 2              1   \n",
       "240755     0.000000           1950                 2              6   \n",
       "240756     0.000000             71                83          11489   \n",
       "240757     0.000000             65                 2              1   \n",
       "240758     0.000000             65                 2              1   \n",
       "240759     0.000000            241                87             27   \n",
       "\n",
       "        search_term_feature  \n",
       "0                        12  \n",
       "1                         9  \n",
       "2                         9  \n",
       "3                        16  \n",
       "4                        18  \n",
       "5                        11  \n",
       "6                        19  \n",
       "7                         8  \n",
       "8                        11  \n",
       "9                         6  \n",
       "10                       11  \n",
       "11                       25  \n",
       "12                        6  \n",
       "13                       11  \n",
       "14                       34  \n",
       "15                        6  \n",
       "16                       12  \n",
       "17                       10  \n",
       "18                       22  \n",
       "19                       12  \n",
       "20                       13  \n",
       "21                       19  \n",
       "22                       19  \n",
       "23                       14  \n",
       "24                        7  \n",
       "25                       19  \n",
       "26                       20  \n",
       "27                       14  \n",
       "28                       18  \n",
       "29                       15  \n",
       "...                     ...  \n",
       "240730                   23  \n",
       "240731                   26  \n",
       "240732                   12  \n",
       "240733                    6  \n",
       "240734                   19  \n",
       "240735                   11  \n",
       "240736                   10  \n",
       "240737                    8  \n",
       "240738                   11  \n",
       "240739                   21  \n",
       "240740                    6  \n",
       "240741                    6  \n",
       "240742                   15  \n",
       "240743                    8  \n",
       "240744                   13  \n",
       "240745                   12  \n",
       "240746                   29  \n",
       "240747                   12  \n",
       "240748                   21  \n",
       "240749                    5  \n",
       "240750                    8  \n",
       "240751                   15  \n",
       "240752                   10  \n",
       "240753                    8  \n",
       "240754                   17  \n",
       "240755                   23  \n",
       "240756                   17  \n",
       "240757                    2  \n",
       "240758                   10  \n",
       "240759                   13  \n",
       "\n",
       "[240760 rows x 36 columns]"
      ]
     },
     "execution_count": 40,
     "metadata": {},
     "output_type": "execute_result"
    }
   ],
   "source": [
    "df_all"
   ]
  },
  {
   "cell_type": "code",
   "execution_count": 29,
   "metadata": {
    "collapsed": false
   },
   "outputs": [
    {
     "data": {
      "text/plain": [
       "Pipeline(steps=[('union', FeatureUnion(n_jobs=1,\n",
       "       transformer_list=[('cst', cust_regression_vals()), ('txt1', Pipeline(steps=[('s1', cust_txt_col(key='search_term')), ('tfidf1', TfidfVectorizer(analyzer=u'word', binary=False, decode_error=u'strict',\n",
       "        dtype=<type 'numpy.int64'>, encoding=u'utf-8'...ghts={'txt5': 0.25, 'txt4': 0.5, 'cst': 1, 'txt6': 0.25, 'txt1': 0.5, 'txt2': 0.25, 'txt3': 0.25}))])"
      ]
     },
     "execution_count": 29,
     "metadata": {},
     "output_type": "execute_result"
    }
   ],
   "source": [
    "clf.fit(X_train)"
   ]
  },
  {
   "cell_type": "code",
   "execution_count": 30,
   "metadata": {
    "collapsed": true
   },
   "outputs": [],
   "source": [
    "DF_TRAIN = clf.transform(X_train)\n",
    "DF_TEST = clf.transform(X_test)"
   ]
  },
  {
   "cell_type": "code",
   "execution_count": 80,
   "metadata": {
    "collapsed": false
   },
   "outputs": [
    {
     "data": {
      "text/plain": [
       "RandomForestRegressor(bootstrap=True, criterion='mse', max_depth=20,\n",
       "           max_features='auto', max_leaf_nodes=None, min_samples_leaf=1,\n",
       "           min_samples_split=2, min_weight_fraction_leaf=0.0,\n",
       "           n_estimators=500, n_jobs=-1, oob_score=False, random_state=2016,\n",
       "           verbose=1, warm_start=False)"
      ]
     },
     "execution_count": 80,
     "metadata": {},
     "output_type": "execute_result"
    }
   ],
   "source": [
    "rfr.fit(DF_TRAIN, y_train)"
   ]
  },
  {
   "cell_type": "code",
   "execution_count": 50,
   "metadata": {
    "collapsed": true
   },
   "outputs": [],
   "source": [
    "from sklearn import feature_selection"
   ]
  },
  {
   "cell_type": "code",
   "execution_count": 81,
   "metadata": {
    "collapsed": false
   },
   "outputs": [],
   "source": [
    "sel = feature_selection.SelectFromModel(rfr, threshold = 'mean', prefit = True)\n",
    "DF_TRAIN_ADV = sel.transform(DF_TRAIN)"
   ]
  },
  {
   "cell_type": "code",
   "execution_count": 82,
   "metadata": {
    "collapsed": true
   },
   "outputs": [],
   "source": [
    "DF_TEST_ADV = sel.transform(DF_TEST)"
   ]
  },
  {
   "cell_type": "code",
   "execution_count": 36,
   "metadata": {
    "collapsed": false
   },
   "outputs": [
    {
     "data": {
      "text/plain": [
       "RandomForestRegressor(bootstrap=True, criterion='mse', max_depth=20,\n",
       "           max_features='auto', max_leaf_nodes=None, min_samples_leaf=1,\n",
       "           min_samples_split=2, min_weight_fraction_leaf=0.0,\n",
       "           n_estimators=500, n_jobs=-1, oob_score=False, random_state=2016,\n",
       "           verbose=1, warm_start=False)"
      ]
     },
     "execution_count": 36,
     "metadata": {},
     "output_type": "execute_result"
    }
   ],
   "source": [
    "rfr_mod = ensemble.RandomForestRegressor(n_estimators = 500, n_jobs = -1, random_state = 2016, verbose = 1,max_depth=20,max_features=30)\n",
    "rfr_mod.fit(DF_TRAIN,y_train)\n",
    "\n",
    "#y_pred = rfr_mod.predict(DF_TEST)\n",
    "#pd.DataFrame({\"id\": id_test, \"relevance\": y_pred}).to_csv('submission_1gram_0.465.csv',index=False)"
   ]
  },
  {
   "cell_type": "code",
   "execution_count": 32,
   "metadata": {
    "collapsed": false
   },
   "outputs": [
    {
     "data": {
      "text/plain": [
       "id                                                                                2\n",
       "product_title                                       simpson strong tie 12 gaug angl\n",
       "product_uid                                                                  100001\n",
       "relevance                                                                         3\n",
       "search_term                                                            angl bracket\n",
       "product_description               not onli do angl make joint stronger they also...\n",
       "brand                                                            simpson strong tie\n",
       "material                                                               galvan steel\n",
       "color                                                                           NaN\n",
       "product_info                      angl bracket\\tsimpson strong tie 12 gaug angl\\...\n",
       "len_of_query                                                                      2\n",
       "len_of_title                                                                      6\n",
       "len_of_description                                                              122\n",
       "len_of_brand                                                                      3\n",
       "len_of_material                                                                   2\n",
       "len_of_color                                                                      1\n",
       "query_in_title                                                                    0\n",
       "query_in_description                                                              0\n",
       "query_last_word_in_title                                                          0\n",
       "query_last_word_in_description                                                    0\n",
       "word_in_title                                                                     1\n",
       "word_in_description                                                               1\n",
       "ratio_title                                                                     0.5\n",
       "ratio_description                                                               0.5\n",
       "attr                              angl bracket\\tsimpson strong tie\\tgalvan steel...\n",
       "word_in_brand                                                                     0\n",
       "word_in_material                                                                  0\n",
       "word_in_color                                                                     0\n",
       "ratio_brand                                                                       0\n",
       "ratio_material                                                                    0\n",
       "ratio_color                                                                       0\n",
       "brand_feature                                                                     1\n",
       "material_feature                                                                  1\n",
       "color_feature                                                                     1\n",
       "search_term_feature                                                              12\n",
       "Name: 0, dtype: object"
      ]
     },
     "execution_count": 32,
     "metadata": {},
     "output_type": "execute_result"
    }
   ],
   "source": [
    "X_train.iloc[0]"
   ]
  },
  {
   "cell_type": "code",
   "execution_count": 39,
   "metadata": {
    "collapsed": false
   },
   "outputs": [
    {
     "data": {
      "text/plain": [
       "array([  4.09671340e-02,   6.12269965e-03,   1.07332649e-02,\n",
       "         1.20586821e-02,   1.65729670e-03,   6.82800972e-04,\n",
       "         7.58714927e-04,   1.11209571e-03,   1.01623291e-03,\n",
       "         1.88278952e-03,   2.06083527e-03,   4.61039126e-03,\n",
       "         3.10303778e-03,   1.92421546e-01,   2.08354878e-02,\n",
       "         6.79187058e-04,   2.07420688e-04,   3.12011116e-04,\n",
       "         1.54396742e-03,   4.17670627e-04,   6.64316038e-04,\n",
       "         1.11524906e-02,   3.13680950e-03,   2.77464239e-03,\n",
       "         3.55182064e-02,   0.00000000e+00,   2.35150116e-03,\n",
       "         3.41070408e-03,   3.49892931e-03,   2.85422419e-03,\n",
       "         2.54405591e-03,   3.02315117e-03,   3.77021009e-03,\n",
       "         3.60770299e-03,   4.18052636e-03,   3.94972723e-03,\n",
       "         3.62354830e-03,   3.87881641e-03,   4.03105743e-03,\n",
       "         4.61397690e-03,   2.56963231e-03,   3.65033066e-03,\n",
       "         3.78419838e-03,   3.82967584e-03,   3.46672498e-03,\n",
       "         3.44198036e-03,   3.79122425e-03,   4.19477574e-03,\n",
       "         4.08964425e-03,   4.92514614e-03,   3.82970828e-03,\n",
       "         3.81162997e-03,   4.21816112e-03,   4.14524680e-03,\n",
       "         5.00771180e-03,   0.00000000e+00,   5.65628075e-03,\n",
       "         5.35527986e-03,   5.28507911e-03,   5.65938987e-03,\n",
       "         4.80082596e-03,   5.59060857e-03,   6.29224282e-03,\n",
       "         5.29732724e-03,   5.63112745e-03,   6.87549833e-03,\n",
       "         5.53305795e-03,   5.61282409e-03,   6.63973650e-03,\n",
       "         6.93984994e-03,   5.74230006e-03,   5.56593360e-03,\n",
       "         6.14691634e-03,   5.73823923e-03,   6.25235457e-03,\n",
       "         5.81104227e-03,   6.53037630e-03,   7.73727606e-03,\n",
       "         7.01559638e-03,   7.20897010e-03,   6.65050299e-03,\n",
       "         6.75089683e-03,   6.30862749e-03,   6.90240955e-03,\n",
       "         6.95152869e-03,   0.00000000e+00,   1.02597557e-02,\n",
       "         9.22617653e-03,   8.64674172e-03,   8.08443145e-03,\n",
       "         8.61467275e-03,   7.11038850e-03,   8.53096205e-03,\n",
       "         7.40119909e-03,   7.97478755e-03,   9.00617090e-03,\n",
       "         7.75069696e-03,   8.11233493e-03,   8.13689168e-03,\n",
       "         8.66239083e-03,   8.43540945e-03,   7.31258948e-03,\n",
       "         7.24972168e-03,   7.65978072e-03,   8.11021270e-03,\n",
       "         8.56475328e-03,   7.16038262e-03,   9.46527883e-03,\n",
       "         1.03893499e-02,   9.39556923e-03,   9.26907499e-03,\n",
       "         9.12403368e-03,   7.58970588e-03,   8.01756457e-03,\n",
       "         9.36767540e-03,   8.38120780e-04,   4.21689339e-04,\n",
       "         5.54311039e-04,   6.97269870e-04,   6.38093071e-04,\n",
       "         4.79043207e-04,   8.44523321e-04,   7.60822685e-04,\n",
       "         7.42998586e-04,   7.37309198e-04,   6.98719184e-04,\n",
       "         8.09277117e-04,   6.45794992e-04,   9.53462930e-04,\n",
       "         9.58275418e-04,   4.82781955e-04,   9.53530256e-04,\n",
       "         8.40958441e-04,   9.11231606e-04,   7.57366029e-04,\n",
       "         9.73711913e-04,   8.47498255e-04,   9.81780761e-04,\n",
       "         9.19026674e-04,   1.01835246e-03,   1.12055408e-03,\n",
       "         7.90419689e-04,   1.02149421e-03,   1.07965202e-03,\n",
       "         1.00314506e-03,   1.83905562e-04,   8.88523313e-04,\n",
       "         6.37876786e-04,   7.87097268e-04,   8.71706165e-04,\n",
       "         6.27866149e-04,   8.29288140e-04,   9.69589226e-04,\n",
       "         8.10350726e-04,   1.12999269e-03,   1.15802947e-03,\n",
       "         9.51091189e-04,   8.54346584e-04,   9.74729635e-04,\n",
       "         1.11341566e-03,   8.29899783e-04,   1.19368404e-03,\n",
       "         1.03215458e-03,   1.10173205e-03,   1.14682453e-03,\n",
       "         1.00586961e-03,   1.02855428e-03,   1.47373537e-03,\n",
       "         1.18808054e-03,   1.11618046e-03,   1.09808870e-03,\n",
       "         1.08952782e-03,   1.07423184e-03,   1.26449376e-03,\n",
       "         1.19524964e-03,   1.13850733e-04,   1.47640555e-03,\n",
       "         1.47520775e-03,   1.51176103e-03,   2.03950582e-03,\n",
       "         1.54069375e-03,   1.33515684e-03,   1.97889522e-03,\n",
       "         1.82235640e-03,   1.65124278e-03,   2.28060739e-03,\n",
       "         1.94362424e-03,   1.82834364e-03,   2.03958123e-03,\n",
       "         2.03800589e-03,   2.05929318e-03,   1.77047658e-03,\n",
       "         1.87747751e-03,   1.87332692e-03,   2.33804334e-03,\n",
       "         1.89643506e-03,   2.03798451e-03,   2.45648271e-03,\n",
       "         2.09097286e-03,   2.38188737e-03,   2.33928492e-03,\n",
       "         2.48103594e-03,   2.25751774e-03,   2.51607306e-03,\n",
       "         2.80668429e-03])"
      ]
     },
     "execution_count": 39,
     "metadata": {},
     "output_type": "execute_result"
    }
   ],
   "source": [
    "rfr_mod.feature_importances_"
   ]
  },
  {
   "cell_type": "code",
   "execution_count": null,
   "metadata": {
    "collapsed": false
   },
   "outputs": [],
   "source": [
    "param_grid = {'max_features': [10,20,30,40,50,60,70], 'max_depth': [20,30,40]}\n",
    "model = grid_search.GridSearchCV(estimator = rfr, param_grid = param_grid, n_jobs = -1, cv = 3, verbose = 20, scoring=RMSE)\n",
    "model.fit(DF_TRAIN, y_train)\n",
    "\n",
    "print(model.best_params_)\n",
    "print(model.best_score_)"
   ]
  },
  {
   "cell_type": "code",
   "execution_count": 26,
   "metadata": {
    "collapsed": false
   },
   "outputs": [
    {
     "data": {
      "text/plain": [
       "-0.46544558389981255"
      ]
     },
     "execution_count": 26,
     "metadata": {},
     "output_type": "execute_result"
    }
   ],
   "source": [
    "cross_validation.cross_val_score(rfr_mod, DF_TRAIN, y_train,scoring=RMSE,cv=5).mean()"
   ]
  },
  {
   "cell_type": "code",
   "execution_count": null,
   "metadata": {
    "collapsed": true
   },
   "outputs": [],
   "source": []
  },
  {
   "cell_type": "code",
   "execution_count": 15,
   "metadata": {
    "collapsed": true
   },
   "outputs": [],
   "source": [
    "from sklearn import tree"
   ]
  },
  {
   "cell_type": "code",
   "execution_count": 28,
   "metadata": {
    "collapsed": false
   },
   "outputs": [],
   "source": [
    "DF_TRAIN_EXTRA = clf.transform(X_train)\n",
    "DF_TEST_EXTRA = clf.transform(X_test)"
   ]
  },
  {
   "cell_type": "code",
   "execution_count": 31,
   "metadata": {
    "collapsed": true
   },
   "outputs": [],
   "source": [
    "extra_mod = ensemble.ExtraTreesRegressor(n_estimators = 500, n_jobs = -1, random_state = 2016, verbose = 1,max_features=45,\n",
    "                                      max_depth = 40, min_samples_split = 2,min_samples_leaf=3,bootstrap=True)\n",
    "extra_mod.fit(DF_TRAIN_EXTRA,y_train)\n",
    "\n",
    "y_pred = extra_mod.predict(DF_TEST_EXTRA)\n",
    "pd.DataFrame({\"id\": id_test, \"relevance\": y_pred}).to_csv('submission_extra_0.4665.csv',index=False)"
   ]
  },
  {
   "cell_type": "code",
   "execution_count": 20,
   "metadata": {
    "collapsed": false
   },
   "outputs": [],
   "source": [
    "extra = ensemble.ExtraTreesRegressor(n_estimators = 500, n_jobs = -1, random_state = 2016, verbose = 1)\n",
    "param_grid = {'max_features': [15,30,45,60,75], 'max_depth': [20,30,40], 'bootstrap':[True,False], \n",
    "             'min_samples_leaf':[1,3,5], 'min_samples_split':[2,3,4]}\n",
    "model = grid_search.GridSearchCV(estimator = extra, param_grid = param_grid, n_jobs = -1, cv = 3, verbose = 20, scoring=RMSE)\n",
    "model.fit(DF_TRAIN_EXTRA, y_train)\n",
    "\n",
    "print(model.best_params_)\n",
    "print(model.best_score_)"
   ]
  },
  {
   "cell_type": "code",
   "execution_count": 29,
   "metadata": {
    "collapsed": false
   },
   "outputs": [
    {
     "data": {
      "text/plain": [
       "-0.46650653450334784"
      ]
     },
     "execution_count": 29,
     "metadata": {},
     "output_type": "execute_result"
    }
   ],
   "source": [
    "cross_validation.cross_val_score(extra_mod, DF_TRAIN_EXTRA, y_train,scoring=RMSE,cv=5).mean()"
   ]
  },
  {
   "cell_type": "code",
   "execution_count": null,
   "metadata": {
    "collapsed": true
   },
   "outputs": [],
   "source": [
    "gbm = ensemble.GradientBoostingRegressor"
   ]
  },
  {
   "cell_type": "code",
   "execution_count": null,
   "metadata": {
    "collapsed": true
   },
   "outputs": [],
   "source": []
  },
  {
   "cell_type": "code",
   "execution_count": null,
   "metadata": {
    "collapsed": true
   },
   "outputs": [],
   "source": []
  },
  {
   "cell_type": "code",
   "execution_count": null,
   "metadata": {
    "collapsed": true
   },
   "outputs": [],
   "source": []
  },
  {
   "cell_type": "code",
   "execution_count": 14,
   "metadata": {
    "collapsed": false
   },
   "outputs": [
    {
     "data": {
      "text/plain": [
       "(74067, 205)"
      ]
     },
     "execution_count": 14,
     "metadata": {},
     "output_type": "execute_result"
    }
   ],
   "source": [
    "DF_TRAIN_SVR.shape"
   ]
  },
  {
   "cell_type": "code",
   "execution_count": 19,
   "metadata": {
    "collapsed": true
   },
   "outputs": [],
   "source": [
    "DF_TRAIN_NORM = preprocessing.normalize(DF_TRAIN_SVR_SEL, norm = 'l2',axis = 0)"
   ]
  },
  {
   "cell_type": "code",
   "execution_count": 15,
   "metadata": {
    "collapsed": false
   },
   "outputs": [],
   "source": [
    "from sklearn.feature_selection import VarianceThreshold\n",
    "sel = VarianceThreshold(threshold=(0))\n",
    "DF_TRAIN_SVR_SEL = sel.fit_transform(DF_TRAIN_SVR)\n",
    "\n",
    "from sklearn import svm\n",
    "svm = svm.LinearSVR(C=1)\n",
    "\n",
    "cross_validation.cross_val_score(svm, DF_TRAIN_NORM, y_train,scoring=RMSE,cv=5).mean() # 0.53"
   ]
  },
  {
   "cell_type": "code",
   "execution_count": null,
   "metadata": {
    "collapsed": true
   },
   "outputs": [],
   "source": []
  },
  {
   "cell_type": "code",
   "execution_count": 65,
   "metadata": {
    "collapsed": false
   },
   "outputs": [],
   "source": [
    "#DF_TRAIN = pd.DataFrame(DF_TRAIN).fillna(0)"
   ]
  },
  {
   "cell_type": "code",
   "execution_count": 20,
   "metadata": {
    "collapsed": false
   },
   "outputs": [],
   "source": [
    "DF_TRAIN.to_csv('DF_TRAIN.csv',index=False)\n",
    "pd.DataFrame(DF_TEST).to_csv('DF_TEST.csv',index=False)"
   ]
  },
  {
   "cell_type": "code",
   "execution_count": 19,
   "metadata": {
    "collapsed": false
   },
   "outputs": [
    {
     "data": {
      "text/plain": [
       "(166693, 205)"
      ]
     },
     "execution_count": 19,
     "metadata": {},
     "output_type": "execute_result"
    }
   ],
   "source": [
    "DF_TEST.shape"
   ]
  },
  {
   "cell_type": "code",
   "execution_count": 74,
   "metadata": {
    "collapsed": false
   },
   "outputs": [],
   "source": [
    "rfr.fit(DF_TRAIN_NORM,y_train)\n",
    "y_pred = rfr.predict(DF_TEST)\n",
    "pd.DataFrame({\"id\": id_test, \"relevance\": y_pred}).to_csv('submission_4655.csv',index=False)"
   ]
  },
  {
   "cell_type": "code",
   "execution_count": 107,
   "metadata": {
    "collapsed": true
   },
   "outputs": [],
   "source": [
    "pd.DataFrame({\"id\": id_test, \"relevance\": y_pred_new}).to_csv('submission_truncated.csv',index=False)"
   ]
  },
  {
   "cell_type": "code",
   "execution_count": 26,
   "metadata": {
    "collapsed": false
   },
   "outputs": [
    {
     "data": {
      "text/plain": [
       "-0.46583154950216532"
      ]
     },
     "execution_count": 26,
     "metadata": {},
     "output_type": "execute_result"
    }
   ],
   "source": [
    "cross_validation.cross_val_score(rfr, DF_TRAIN, y_train,scoring=RMSE,cv=5).mean()"
   ]
  },
  {
   "cell_type": "code",
   "execution_count": 75,
   "metadata": {
    "collapsed": false
   },
   "outputs": [],
   "source": [
    "param_grid = {'max_features': [10, 30, 60], 'max_depth': [20,30]}\n",
    "model = grid_search.GridSearchCV(estimator = rfr, param_grid = param_grid, n_jobs = -1, cv = 3, verbose = 20, scoring=RMSE)\n",
    "model.fit(DF_TRAIN, y_train)"
   ]
  },
  {
   "cell_type": "code",
   "execution_count": 36,
   "metadata": {
    "collapsed": true
   },
   "outputs": [],
   "source": [
    "print(model.best_params_)\n",
    "print(model.best_score_)"
   ]
  },
  {
   "cell_type": "code",
   "execution_count": null,
   "metadata": {
    "collapsed": true
   },
   "outputs": [],
   "source": []
  },
  {
   "cell_type": "code",
   "execution_count": 43,
   "metadata": {
    "collapsed": true
   },
   "outputs": [],
   "source": [
    "import matplotlib.pyplot as plt\n",
    "#plot graph in notebook instead of returning a new window\n",
    "%matplotlib inline "
   ]
  },
  {
   "cell_type": "code",
   "execution_count": 63,
   "metadata": {
    "collapsed": false
   },
   "outputs": [
    {
     "data": {
      "text/plain": [
       "2.4298934280639437"
      ]
     },
     "execution_count": 63,
     "metadata": {},
     "output_type": "execute_result"
    }
   ],
   "source": [
    "X_train[X_train.word_in_brand > 1].relevance.mean()"
   ]
  },
  {
   "cell_type": "code",
   "execution_count": 48,
   "metadata": {
    "collapsed": false
   },
   "outputs": [
    {
     "data": {
      "text/plain": [
       "2.3816337910270433"
      ]
     },
     "execution_count": 48,
     "metadata": {},
     "output_type": "execute_result"
    }
   ],
   "source": [
    "X_train.relevance.mean()"
   ]
  },
  {
   "cell_type": "code",
   "execution_count": 53,
   "metadata": {
    "collapsed": false
   },
   "outputs": [
    {
     "data": {
      "text/plain": [
       "1.9893204801058502"
      ]
     },
     "execution_count": 53,
     "metadata": {},
     "output_type": "execute_result"
    }
   ],
   "source": [
    "X_train.word_in_description.mean()"
   ]
  },
  {
   "cell_type": "code",
   "execution_count": 58,
   "metadata": {
    "collapsed": false
   },
   "outputs": [
    {
     "data": {
      "text/plain": [
       "2.5393281653746769"
      ]
     },
     "execution_count": 58,
     "metadata": {},
     "output_type": "execute_result"
    }
   ],
   "source": [
    "X_train[X_train.word_in_description>5].relevance.mean()"
   ]
  },
  {
   "cell_type": "code",
   "execution_count": 84,
   "metadata": {
    "collapsed": false
   },
   "outputs": [
    {
     "data": {
      "text/plain": [
       "array([[<matplotlib.axes._subplots.AxesSubplot object at 0x1161b3f50>]], dtype=object)"
      ]
     },
     "execution_count": 84,
     "metadata": {},
     "output_type": "execute_result"
    },
    {
     "data": {
      "image/png": "[encoded data removed]",
      "text/plain": [
       "<matplotlib.figure.Figure at 0x11329fad0>"
      ]
     },
     "metadata": {},
     "output_type": "display_data"
    }
   ],
   "source": [
    "pd.DataFrame(y_train).hist()"
   ]
  },
  {
   "cell_type": "code",
   "execution_count": 85,
   "metadata": {
    "collapsed": false
   },
   "outputs": [
    {
     "data": {
      "text/plain": [
       "array([[<matplotlib.axes._subplots.AxesSubplot object at 0x1148052d0>]], dtype=object)"
      ]
     },
     "execution_count": 85,
     "metadata": {},
     "output_type": "execute_result"
    },
    {
     "data": {
      "image/png": "[encoded data removed]",
      "text/plain": [
       "<matplotlib.figure.Figure at 0x1124c76d0>"
      ]
     },
     "metadata": {},
     "output_type": "display_data"
    }
   ],
   "source": [
    "pd.DataFrame(y_pred).hist()"
   ]
  },
  {
   "cell_type": "code",
   "execution_count": 106,
   "metadata": {
    "collapsed": false
   },
   "outputs": [
    {
     "data": {
      "text/plain": [
       "array([[<matplotlib.axes._subplots.AxesSubplot object at 0x1285ebd90>]], dtype=object)"
      ]
     },
     "execution_count": 106,
     "metadata": {},
     "output_type": "execute_result"
    },
    {
     "data": {
      "image/png": "[encoded data removed]",
      "text/plain": [
       "<matplotlib.figure.Figure at 0x1285eb8d0>"
      ]
     },
     "metadata": {},
     "output_type": "display_data"
    }
   ],
   "source": [
    "pd.DataFrame(y_pred_new).hist()"
   ]
  },
  {
   "cell_type": "code",
   "execution_count": 98,
   "metadata": {
    "collapsed": false
   },
   "outputs": [],
   "source": [
    "y_pred_new = y_pred.tolist()"
   ]
  },
  {
   "cell_type": "code",
   "execution_count": 102,
   "metadata": {
    "collapsed": true
   },
   "outputs": [],
   "source": [
    "for i in range(len(y_pred)):\n",
    "    if y_pred[i] < 1.125:\n",
    "        y_pred_new[i] = 1\n",
    "    elif y_pred[i] < 1.29:\n",
    "        y_pred_new[i] = 1.25\n",
    "    elif y_pred[i] < 1.415:\n",
    "        y_pred_new[i] = 1.33\n",
    "    elif y_pred[i] < 1.585:\n",
    "        y_pred_new[i] = 1.5\n",
    "    elif y_pred[i] < 1.71:\n",
    "        y_pred_new[i] = 1.67\n",
    "    elif y_pred[i] < 1.875:\n",
    "        y_pred_new[i] = 1.75\n",
    "    elif y_pred[i] < 2.125:\n",
    "        y_pred_new[i] = 2\n",
    "    elif y_pred[i] < 2.29:\n",
    "        y_pred_new[i] = 2.25\n",
    "    elif y_pred[i] < 2.415:\n",
    "        y_pred_new[i] = 2.33\n",
    "    elif y_pred[i] < 2.585:\n",
    "        y_pred_new[i] = 2.5\n",
    "    elif y_pred[i] < 2.71:\n",
    "        y_pred_new[i] = 2.67\n",
    "    elif y_pred[i] < 2.875:\n",
    "        y_pred_new[i] = 2.75\n",
    "    else:\n",
    "        y_pred_new[i] = 3       "
   ]
  },
  {
   "cell_type": "code",
   "execution_count": null,
   "metadata": {
    "collapsed": true
   },
   "outputs": [],
   "source": []
  },
  {
   "cell_type": "code",
   "execution_count": null,
   "metadata": {
    "collapsed": true
   },
   "outputs": [],
   "source": []
  },
  {
   "cell_type": "code",
   "execution_count": null,
   "metadata": {
    "collapsed": true
   },
   "outputs": [],
   "source": []
  },
  {
   "cell_type": "code",
   "execution_count": null,
   "metadata": {
    "collapsed": true
   },
   "outputs": [],
   "source": []
  }
 ],
 "metadata": {
  "kernelspec": {
   "display_name": "Python 2",
   "language": "python",
   "name": "python2"
  },
  "language_info": {
   "codemirror_mode": {
    "name": "ipython",
    "version": 2
   },
   "file_extension": ".py",
   "mimetype": "text/x-python",
   "name": "python",
   "nbconvert_exporter": "python",
   "pygments_lexer": "ipython2",
   "version": "2.7.11"
  }
 },
 "nbformat": 4,
 "nbformat_minor": 0
}
